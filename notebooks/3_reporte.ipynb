{
 "cells": [
  {
   "cell_type": "markdown",
   "id": "326066d1-383f-4759-a06f-c9e2150675d6",
   "metadata": {},
   "source": [
    "# Capstone Project\n",
    "El uso de bicicletas se ha masificado en los últimos años como medio de transporte y acercamiento a los lugares de trabajo, estudios u otro destino, siendo una alternativa al transporte público, lo que ayuda a aliviar la congestión en las calles y el tránsito, además de promover la actividad física y mejorar la calidad de vida. Esto demanda y requiere de la mantención de una infraestructura , mecanismos y políticas públicas que sustenten y fortalezcan este servicio.\n",
    "\n",
    "Los sistemas de bicicletas compartidas, también conocidos como sistemas de bicicletas públicas, facilitan la disponibilidad automática de bicicletas para que sean utilizadas temporalmente como medio de transporte. La mayoría de estos sistemas permiten recoger una bicicleta y devolverla en un punto diferente (estaciones o dockers), para que el usuario solo necesite tener la bicicleta en su posesión durante el desplazamiento. Uno de los principales retos en la gestión de estos sistemas es la necesidad de redistribuir las bicicletas para intentar que, en todas las estaciones, haya bicicletas disponibles a la vez que espacios libres para devoluciones.\n",
    "\n",
    "Este proyecto contempla realizar un análisis del tiempo de viaje de los pasajeros en bicicletas en la ciudad de Toronto para el año 2021 y predecir mediante técnicas de series de tiempo el tiempo promedio de viajes de los pasajeros para el año 2022 con la finalidad de cuantificarlos y prever potenciales medidas a considerar para sostener y expandir este servicio. Para ello se hace uso de un set de datos públicos que considera los tiempos de viaje entre estaciones de Toronto y se plantean las siguientes interrogantes: ¿ Cuál es el tiempo de viaje en bicicletas de los pasajeros en Toronto? ¿ Cuál(es) son las horas peak del día donde se solicita el servicio de bicicletas y qué días es dónde se concentra el mayor número de viajes en bicicletas en Toronto? ¿ Cuáles son las 10 estaciones de origen con mayor número de viajes? ¿Cuáles son las 10 estaciones destino con mayor número viajes finalizados? ¿Qué variables inciden en los resultados? ¿Cómo se proyectan los tiempos de viaje para el año 2022 en las estaciones más concurridas?\n"
   ]
  },
  {
   "cell_type": "code",
   "execution_count": 1,
   "id": "adc398c6-9559-462e-aef8-91fab7237654",
   "metadata": {},
   "outputs": [],
   "source": [
    "import datetime\n",
    "import pandas as pd\n",
    "from matplotlib import pyplot as plt\n",
    "import seaborn as sns\n",
    "import numpy as np\n",
    "\n",
    "from sklearn.metrics import mean_squared_error\n",
    "from statsmodels.tsa.statespace.sarimax import SARIMAX\n",
    "from statsmodels.tsa.arima.model import ARIMA\n",
    "from pmdarima.arima import auto_arima\n",
    "\n"
   ]
  },
  {
   "cell_type": "markdown",
   "id": "f36e4b55-fba9-4da2-85b2-8ad3076dc080",
   "metadata": {},
   "source": [
    "# Limpieza inicial"
   ]
  },
  {
   "cell_type": "markdown",
   "id": "2f7753bb-339b-4fc2-8e93-33a6e4dc69fb",
   "metadata": {},
   "source": [
    "Primero se unieron los 12 dataframes originales utilizando un ciclo \"for\" en un al que llamamos \"df\""
   ]
  },
  {
   "cell_type": "code",
   "execution_count": 2,
   "id": "6f00ec84-9a65-445a-87a2-a8c385da2ec7",
   "metadata": {},
   "outputs": [
    {
     "data": {
      "text/html": [
       "<div>\n",
       "<style scoped>\n",
       "    .dataframe tbody tr th:only-of-type {\n",
       "        vertical-align: middle;\n",
       "    }\n",
       "\n",
       "    .dataframe tbody tr th {\n",
       "        vertical-align: top;\n",
       "    }\n",
       "\n",
       "    .dataframe thead th {\n",
       "        text-align: right;\n",
       "    }\n",
       "</style>\n",
       "<table border=\"1\" class=\"dataframe\">\n",
       "  <thead>\n",
       "    <tr style=\"text-align: right;\">\n",
       "      <th></th>\n",
       "      <th>Trip Id</th>\n",
       "      <th>Trip  Duration</th>\n",
       "      <th>Start Station Id</th>\n",
       "      <th>Start Time</th>\n",
       "      <th>Start Station Name</th>\n",
       "      <th>End Station Id</th>\n",
       "      <th>End Time</th>\n",
       "      <th>End Station Name</th>\n",
       "      <th>Bike Id</th>\n",
       "      <th>User Type</th>\n",
       "      <th>ï»¿Trip Id</th>\n",
       "    </tr>\n",
       "  </thead>\n",
       "  <tbody>\n",
       "    <tr>\n",
       "      <th>0</th>\n",
       "      <td>10644218.0</td>\n",
       "      <td>1315</td>\n",
       "      <td>7021</td>\n",
       "      <td>01/01/2021 00:04</td>\n",
       "      <td>Bay St / Albert St</td>\n",
       "      <td>7164.0</td>\n",
       "      <td>01/01/2021 00:26</td>\n",
       "      <td>Gould St / Yonge St (Ryerson University)</td>\n",
       "      <td>6795.0</td>\n",
       "      <td>Annual Member</td>\n",
       "      <td>NaN</td>\n",
       "    </tr>\n",
       "    <tr>\n",
       "      <th>1</th>\n",
       "      <td>10644220.0</td>\n",
       "      <td>396</td>\n",
       "      <td>7534</td>\n",
       "      <td>01/01/2021 00:07</td>\n",
       "      <td>Walnut Ave / Queen St W</td>\n",
       "      <td>7524.0</td>\n",
       "      <td>01/01/2021 00:13</td>\n",
       "      <td>Lisgar Park</td>\n",
       "      <td>4176.0</td>\n",
       "      <td>Casual Member</td>\n",
       "      <td>NaN</td>\n",
       "    </tr>\n",
       "    <tr>\n",
       "      <th>2</th>\n",
       "      <td>10644221.0</td>\n",
       "      <td>86</td>\n",
       "      <td>7162</td>\n",
       "      <td>01/01/2021 00:10</td>\n",
       "      <td>Hayter St / Laplante Ave</td>\n",
       "      <td>7006.0</td>\n",
       "      <td>01/01/2021 00:11</td>\n",
       "      <td>Bay St / College St (East Side)</td>\n",
       "      <td>1814.0</td>\n",
       "      <td>Annual Member</td>\n",
       "      <td>NaN</td>\n",
       "    </tr>\n",
       "    <tr>\n",
       "      <th>3</th>\n",
       "      <td>10644222.0</td>\n",
       "      <td>741</td>\n",
       "      <td>7003</td>\n",
       "      <td>01/01/2021 00:10</td>\n",
       "      <td>Madison Ave / Bloor St W</td>\n",
       "      <td>7272.0</td>\n",
       "      <td>01/01/2021 00:22</td>\n",
       "      <td>Yonge St / Dundonald St - SMART</td>\n",
       "      <td>198.0</td>\n",
       "      <td>Casual Member</td>\n",
       "      <td>NaN</td>\n",
       "    </tr>\n",
       "    <tr>\n",
       "      <th>4</th>\n",
       "      <td>10644223.0</td>\n",
       "      <td>2073</td>\n",
       "      <td>7562</td>\n",
       "      <td>01/01/2021 00:11</td>\n",
       "      <td>Priscilla  Ave / Dundas St W - SMART</td>\n",
       "      <td>7562.0</td>\n",
       "      <td>01/01/2021 00:45</td>\n",
       "      <td>Priscilla  Ave / Dundas St W - SMART</td>\n",
       "      <td>6688.0</td>\n",
       "      <td>Casual Member</td>\n",
       "      <td>NaN</td>\n",
       "    </tr>\n",
       "    <tr>\n",
       "      <th>...</th>\n",
       "      <td>...</td>\n",
       "      <td>...</td>\n",
       "      <td>...</td>\n",
       "      <td>...</td>\n",
       "      <td>...</td>\n",
       "      <td>...</td>\n",
       "      <td>...</td>\n",
       "      <td>...</td>\n",
       "      <td>...</td>\n",
       "      <td>...</td>\n",
       "      <td>...</td>\n",
       "    </tr>\n",
       "    <tr>\n",
       "      <th>145844</th>\n",
       "      <td>NaN</td>\n",
       "      <td>372</td>\n",
       "      <td>7065</td>\n",
       "      <td>12/31/2021 23:56</td>\n",
       "      <td>Dundas St E / Parliament St</td>\n",
       "      <td>7472.0</td>\n",
       "      <td>01/01/2022 00:02</td>\n",
       "      <td>Dundas St E / Victoria St</td>\n",
       "      <td>3487.0</td>\n",
       "      <td>Casual Member</td>\n",
       "      <td>14805103.0</td>\n",
       "    </tr>\n",
       "    <tr>\n",
       "      <th>145845</th>\n",
       "      <td>NaN</td>\n",
       "      <td>762</td>\n",
       "      <td>7233</td>\n",
       "      <td>12/31/2021 23:56</td>\n",
       "      <td>King / Cowan Ave - SMART</td>\n",
       "      <td>7569.0</td>\n",
       "      <td>01/01/2022 00:08</td>\n",
       "      <td>Toronto Inukshuk Park</td>\n",
       "      <td>4195.0</td>\n",
       "      <td>Annual Member</td>\n",
       "      <td>14805104.0</td>\n",
       "    </tr>\n",
       "    <tr>\n",
       "      <th>145846</th>\n",
       "      <td>NaN</td>\n",
       "      <td>355</td>\n",
       "      <td>7065</td>\n",
       "      <td>12/31/2021 23:56</td>\n",
       "      <td>Dundas St E / Parliament St</td>\n",
       "      <td>7472.0</td>\n",
       "      <td>01/01/2022 00:02</td>\n",
       "      <td>Dundas St E / Victoria St</td>\n",
       "      <td>4574.0</td>\n",
       "      <td>Casual Member</td>\n",
       "      <td>14805105.0</td>\n",
       "    </tr>\n",
       "    <tr>\n",
       "      <th>145847</th>\n",
       "      <td>NaN</td>\n",
       "      <td>770</td>\n",
       "      <td>7292</td>\n",
       "      <td>12/31/2021 23:56</td>\n",
       "      <td>Granby St / Church St - SMART</td>\n",
       "      <td>7076.0</td>\n",
       "      <td>01/01/2022 00:09</td>\n",
       "      <td>York St / Queens Quay W</td>\n",
       "      <td>5879.0</td>\n",
       "      <td>Annual Member</td>\n",
       "      <td>14805107.0</td>\n",
       "    </tr>\n",
       "    <tr>\n",
       "      <th>145848</th>\n",
       "      <td>NaN</td>\n",
       "      <td>1307</td>\n",
       "      <td>7057</td>\n",
       "      <td>12/31/2021 23:59</td>\n",
       "      <td>Simcoe St / Wellington St South</td>\n",
       "      <td>7383.0</td>\n",
       "      <td>01/01/2022 00:21</td>\n",
       "      <td>12 Harbour St</td>\n",
       "      <td>1655.0</td>\n",
       "      <td>Annual Member</td>\n",
       "      <td>14805108.0</td>\n",
       "    </tr>\n",
       "  </tbody>\n",
       "</table>\n",
       "<p>3575182 rows × 11 columns</p>\n",
       "</div>"
      ],
      "text/plain": [
       "           Trip Id  Trip  Duration  Start Station Id        Start Time  \\\n",
       "0       10644218.0            1315              7021  01/01/2021 00:04   \n",
       "1       10644220.0             396              7534  01/01/2021 00:07   \n",
       "2       10644221.0              86              7162  01/01/2021 00:10   \n",
       "3       10644222.0             741              7003  01/01/2021 00:10   \n",
       "4       10644223.0            2073              7562  01/01/2021 00:11   \n",
       "...            ...             ...               ...               ...   \n",
       "145844         NaN             372              7065  12/31/2021 23:56   \n",
       "145845         NaN             762              7233  12/31/2021 23:56   \n",
       "145846         NaN             355              7065  12/31/2021 23:56   \n",
       "145847         NaN             770              7292  12/31/2021 23:56   \n",
       "145848         NaN            1307              7057  12/31/2021 23:59   \n",
       "\n",
       "                          Start Station Name  End Station Id  \\\n",
       "0                         Bay St / Albert St          7164.0   \n",
       "1                    Walnut Ave / Queen St W          7524.0   \n",
       "2                   Hayter St / Laplante Ave          7006.0   \n",
       "3                   Madison Ave / Bloor St W          7272.0   \n",
       "4       Priscilla  Ave / Dundas St W - SMART          7562.0   \n",
       "...                                      ...             ...   \n",
       "145844           Dundas St E / Parliament St          7472.0   \n",
       "145845              King / Cowan Ave - SMART          7569.0   \n",
       "145846           Dundas St E / Parliament St          7472.0   \n",
       "145847         Granby St / Church St - SMART          7076.0   \n",
       "145848       Simcoe St / Wellington St South          7383.0   \n",
       "\n",
       "                End Time                          End Station Name  Bike Id  \\\n",
       "0       01/01/2021 00:26  Gould St / Yonge St (Ryerson University)   6795.0   \n",
       "1       01/01/2021 00:13                               Lisgar Park   4176.0   \n",
       "2       01/01/2021 00:11           Bay St / College St (East Side)   1814.0   \n",
       "3       01/01/2021 00:22           Yonge St / Dundonald St - SMART    198.0   \n",
       "4       01/01/2021 00:45      Priscilla  Ave / Dundas St W - SMART   6688.0   \n",
       "...                  ...                                       ...      ...   \n",
       "145844  01/01/2022 00:02                 Dundas St E / Victoria St   3487.0   \n",
       "145845  01/01/2022 00:08                     Toronto Inukshuk Park   4195.0   \n",
       "145846  01/01/2022 00:02                 Dundas St E / Victoria St   4574.0   \n",
       "145847  01/01/2022 00:09                   York St / Queens Quay W   5879.0   \n",
       "145848  01/01/2022 00:21                             12 Harbour St   1655.0   \n",
       "\n",
       "            User Type  ï»¿Trip Id  \n",
       "0       Annual Member         NaN  \n",
       "1       Casual Member         NaN  \n",
       "2       Annual Member         NaN  \n",
       "3       Casual Member         NaN  \n",
       "4       Casual Member         NaN  \n",
       "...               ...         ...  \n",
       "145844  Casual Member  14805103.0  \n",
       "145845  Annual Member  14805104.0  \n",
       "145846  Casual Member  14805105.0  \n",
       "145847  Annual Member  14805107.0  \n",
       "145848  Annual Member  14805108.0  \n",
       "\n",
       "[3575182 rows x 11 columns]"
      ]
     },
     "execution_count": 2,
     "metadata": {},
     "output_type": "execute_result"
    }
   ],
   "source": [
    "#Unimos los dataframes en uno solo\n",
    "nombres = ['01','02','03','04','05','06','07','08','09','10','11','12']\n",
    "lista_df = []\n",
    "for i in range(12):\n",
    "    a = pd.read_csv(nombres[i]+\".csv\",  encoding='latin1')\n",
    "    a.reset_index(drop=True, inplace=True)\n",
    "    lista_df.append(a)\n",
    "df = pd.concat(lista_df)\n",
    "df"
   ]
  },
  {
   "cell_type": "markdown",
   "id": "e3429d11-176a-46b1-bd28-1abe2e85d6f6",
   "metadata": {},
   "source": [
    "Se eliminaron las columnas que no se trabajaran(Tiempo de llegada a estación, ID de estacion, ID de viaje, tipo de usuario y ID de bicicleta) junto con una columna basura que se formó durante la concatenación de los dataframe(\"ï»¿Trip Id\")."
   ]
  },
  {
   "cell_type": "code",
   "execution_count": 3,
   "id": "56d66038-1d02-48b4-b105-fa3bdeea3986",
   "metadata": {},
   "outputs": [
    {
     "data": {
      "text/html": [
       "<div>\n",
       "<style scoped>\n",
       "    .dataframe tbody tr th:only-of-type {\n",
       "        vertical-align: middle;\n",
       "    }\n",
       "\n",
       "    .dataframe tbody tr th {\n",
       "        vertical-align: top;\n",
       "    }\n",
       "\n",
       "    .dataframe thead th {\n",
       "        text-align: right;\n",
       "    }\n",
       "</style>\n",
       "<table border=\"1\" class=\"dataframe\">\n",
       "  <thead>\n",
       "    <tr style=\"text-align: right;\">\n",
       "      <th></th>\n",
       "      <th>Trip  Duration</th>\n",
       "      <th>Start Time</th>\n",
       "      <th>Start Station Name</th>\n",
       "      <th>End Station Name</th>\n",
       "    </tr>\n",
       "  </thead>\n",
       "  <tbody>\n",
       "    <tr>\n",
       "      <th>0</th>\n",
       "      <td>1315</td>\n",
       "      <td>01/01/2021 00:04</td>\n",
       "      <td>Bay St / Albert St</td>\n",
       "      <td>Gould St / Yonge St (Ryerson University)</td>\n",
       "    </tr>\n",
       "    <tr>\n",
       "      <th>1</th>\n",
       "      <td>396</td>\n",
       "      <td>01/01/2021 00:07</td>\n",
       "      <td>Walnut Ave / Queen St W</td>\n",
       "      <td>Lisgar Park</td>\n",
       "    </tr>\n",
       "    <tr>\n",
       "      <th>2</th>\n",
       "      <td>86</td>\n",
       "      <td>01/01/2021 00:10</td>\n",
       "      <td>Hayter St / Laplante Ave</td>\n",
       "      <td>Bay St / College St (East Side)</td>\n",
       "    </tr>\n",
       "    <tr>\n",
       "      <th>3</th>\n",
       "      <td>741</td>\n",
       "      <td>01/01/2021 00:10</td>\n",
       "      <td>Madison Ave / Bloor St W</td>\n",
       "      <td>Yonge St / Dundonald St - SMART</td>\n",
       "    </tr>\n",
       "    <tr>\n",
       "      <th>4</th>\n",
       "      <td>2073</td>\n",
       "      <td>01/01/2021 00:11</td>\n",
       "      <td>Priscilla  Ave / Dundas St W - SMART</td>\n",
       "      <td>Priscilla  Ave / Dundas St W - SMART</td>\n",
       "    </tr>\n",
       "    <tr>\n",
       "      <th>...</th>\n",
       "      <td>...</td>\n",
       "      <td>...</td>\n",
       "      <td>...</td>\n",
       "      <td>...</td>\n",
       "    </tr>\n",
       "    <tr>\n",
       "      <th>145844</th>\n",
       "      <td>372</td>\n",
       "      <td>12/31/2021 23:56</td>\n",
       "      <td>Dundas St E / Parliament St</td>\n",
       "      <td>Dundas St E / Victoria St</td>\n",
       "    </tr>\n",
       "    <tr>\n",
       "      <th>145845</th>\n",
       "      <td>762</td>\n",
       "      <td>12/31/2021 23:56</td>\n",
       "      <td>King / Cowan Ave - SMART</td>\n",
       "      <td>Toronto Inukshuk Park</td>\n",
       "    </tr>\n",
       "    <tr>\n",
       "      <th>145846</th>\n",
       "      <td>355</td>\n",
       "      <td>12/31/2021 23:56</td>\n",
       "      <td>Dundas St E / Parliament St</td>\n",
       "      <td>Dundas St E / Victoria St</td>\n",
       "    </tr>\n",
       "    <tr>\n",
       "      <th>145847</th>\n",
       "      <td>770</td>\n",
       "      <td>12/31/2021 23:56</td>\n",
       "      <td>Granby St / Church St - SMART</td>\n",
       "      <td>York St / Queens Quay W</td>\n",
       "    </tr>\n",
       "    <tr>\n",
       "      <th>145848</th>\n",
       "      <td>1307</td>\n",
       "      <td>12/31/2021 23:59</td>\n",
       "      <td>Simcoe St / Wellington St South</td>\n",
       "      <td>12 Harbour St</td>\n",
       "    </tr>\n",
       "  </tbody>\n",
       "</table>\n",
       "<p>3575182 rows × 4 columns</p>\n",
       "</div>"
      ],
      "text/plain": [
       "        Trip  Duration        Start Time  \\\n",
       "0                 1315  01/01/2021 00:04   \n",
       "1                  396  01/01/2021 00:07   \n",
       "2                   86  01/01/2021 00:10   \n",
       "3                  741  01/01/2021 00:10   \n",
       "4                 2073  01/01/2021 00:11   \n",
       "...                ...               ...   \n",
       "145844             372  12/31/2021 23:56   \n",
       "145845             762  12/31/2021 23:56   \n",
       "145846             355  12/31/2021 23:56   \n",
       "145847             770  12/31/2021 23:56   \n",
       "145848            1307  12/31/2021 23:59   \n",
       "\n",
       "                          Start Station Name  \\\n",
       "0                         Bay St / Albert St   \n",
       "1                    Walnut Ave / Queen St W   \n",
       "2                   Hayter St / Laplante Ave   \n",
       "3                   Madison Ave / Bloor St W   \n",
       "4       Priscilla  Ave / Dundas St W - SMART   \n",
       "...                                      ...   \n",
       "145844           Dundas St E / Parliament St   \n",
       "145845              King / Cowan Ave - SMART   \n",
       "145846           Dundas St E / Parliament St   \n",
       "145847         Granby St / Church St - SMART   \n",
       "145848       Simcoe St / Wellington St South   \n",
       "\n",
       "                                End Station Name  \n",
       "0       Gould St / Yonge St (Ryerson University)  \n",
       "1                                    Lisgar Park  \n",
       "2                Bay St / College St (East Side)  \n",
       "3                Yonge St / Dundonald St - SMART  \n",
       "4           Priscilla  Ave / Dundas St W - SMART  \n",
       "...                                          ...  \n",
       "145844                 Dundas St E / Victoria St  \n",
       "145845                     Toronto Inukshuk Park  \n",
       "145846                 Dundas St E / Victoria St  \n",
       "145847                   York St / Queens Quay W  \n",
       "145848                             12 Harbour St  \n",
       "\n",
       "[3575182 rows x 4 columns]"
      ]
     },
     "execution_count": 3,
     "metadata": {},
     "output_type": "execute_result"
    }
   ],
   "source": [
    "#Eliminaremos las columnas con datos innecesarios \n",
    "df.pop('End Time')\n",
    "df.pop('End Station Id')\n",
    "df.pop('Start Station Id')\n",
    "df.pop('Bike Id')\n",
    "df.pop('User Type')\n",
    "df.pop('Trip Id')\n",
    "df.pop('ï»¿Trip Id')\n",
    "df "
   ]
  },
  {
   "cell_type": "markdown",
   "id": "59629618-818c-44a9-bf60-d42aab52cf26",
   "metadata": {},
   "source": [
    "Para poder trabajar las fechas de manera más efectiva se descompuso la fecha en columnas de año, mes, día, día de la semana y hora. Luego se eliminó la columna con la fecha original."
   ]
  },
  {
   "cell_type": "code",
   "execution_count": 4,
   "id": "9fad48a3-8f9c-4043-8d47-cdf77ea88d41",
   "metadata": {},
   "outputs": [
    {
     "data": {
      "text/plain": [
       "0        2021-01-01 00:04:00\n",
       "1        2021-01-01 00:07:00\n",
       "2        2021-01-01 00:10:00\n",
       "3        2021-01-01 00:10:00\n",
       "4        2021-01-01 00:11:00\n",
       "                 ...        \n",
       "145844   2021-12-31 23:56:00\n",
       "145845   2021-12-31 23:56:00\n",
       "145846   2021-12-31 23:56:00\n",
       "145847   2021-12-31 23:56:00\n",
       "145848   2021-12-31 23:59:00\n",
       "Name: date, Length: 3575182, dtype: datetime64[ns]"
      ]
     },
     "execution_count": 4,
     "metadata": {},
     "output_type": "execute_result"
    }
   ],
   "source": [
    "#Separamos fecha y hora en columnas\n",
    "df['date'] = pd.to_datetime(df['Start Time'])\n",
    "df['hora'] = df['date'].dt.hour\n",
    "df['fecha'] = df['date'].dt.date\n",
    "df['dia'] = df['date'].dt.day \n",
    "df['mes']= df['date'].dt.month\n",
    "df['dia de semana'] = df['date'].dt.day_name()\n",
    "#Limpieza final\n",
    "df.pop('Start Time')\n",
    "df.pop('date')"
   ]
  },
  {
   "cell_type": "code",
   "execution_count": 5,
   "id": "974cc52d-32d8-4586-bf1b-f449b245319b",
   "metadata": {},
   "outputs": [
    {
     "data": {
      "text/html": [
       "<div>\n",
       "<style scoped>\n",
       "    .dataframe tbody tr th:only-of-type {\n",
       "        vertical-align: middle;\n",
       "    }\n",
       "\n",
       "    .dataframe tbody tr th {\n",
       "        vertical-align: top;\n",
       "    }\n",
       "\n",
       "    .dataframe thead th {\n",
       "        text-align: right;\n",
       "    }\n",
       "</style>\n",
       "<table border=\"1\" class=\"dataframe\">\n",
       "  <thead>\n",
       "    <tr style=\"text-align: right;\">\n",
       "      <th></th>\n",
       "      <th>Trip  Duration</th>\n",
       "      <th>Start Station Name</th>\n",
       "      <th>End Station Name</th>\n",
       "      <th>hora</th>\n",
       "      <th>fecha</th>\n",
       "      <th>dia</th>\n",
       "      <th>mes</th>\n",
       "      <th>dia de semana</th>\n",
       "    </tr>\n",
       "  </thead>\n",
       "  <tbody>\n",
       "    <tr>\n",
       "      <th>0</th>\n",
       "      <td>1315</td>\n",
       "      <td>Bay St / Albert St</td>\n",
       "      <td>Gould St / Yonge St (Ryerson University)</td>\n",
       "      <td>0</td>\n",
       "      <td>2021-01-01</td>\n",
       "      <td>1</td>\n",
       "      <td>1</td>\n",
       "      <td>Friday</td>\n",
       "    </tr>\n",
       "    <tr>\n",
       "      <th>1</th>\n",
       "      <td>396</td>\n",
       "      <td>Walnut Ave / Queen St W</td>\n",
       "      <td>Lisgar Park</td>\n",
       "      <td>0</td>\n",
       "      <td>2021-01-01</td>\n",
       "      <td>1</td>\n",
       "      <td>1</td>\n",
       "      <td>Friday</td>\n",
       "    </tr>\n",
       "    <tr>\n",
       "      <th>2</th>\n",
       "      <td>86</td>\n",
       "      <td>Hayter St / Laplante Ave</td>\n",
       "      <td>Bay St / College St (East Side)</td>\n",
       "      <td>0</td>\n",
       "      <td>2021-01-01</td>\n",
       "      <td>1</td>\n",
       "      <td>1</td>\n",
       "      <td>Friday</td>\n",
       "    </tr>\n",
       "    <tr>\n",
       "      <th>3</th>\n",
       "      <td>741</td>\n",
       "      <td>Madison Ave / Bloor St W</td>\n",
       "      <td>Yonge St / Dundonald St - SMART</td>\n",
       "      <td>0</td>\n",
       "      <td>2021-01-01</td>\n",
       "      <td>1</td>\n",
       "      <td>1</td>\n",
       "      <td>Friday</td>\n",
       "    </tr>\n",
       "    <tr>\n",
       "      <th>4</th>\n",
       "      <td>2073</td>\n",
       "      <td>Priscilla  Ave / Dundas St W - SMART</td>\n",
       "      <td>Priscilla  Ave / Dundas St W - SMART</td>\n",
       "      <td>0</td>\n",
       "      <td>2021-01-01</td>\n",
       "      <td>1</td>\n",
       "      <td>1</td>\n",
       "      <td>Friday</td>\n",
       "    </tr>\n",
       "    <tr>\n",
       "      <th>...</th>\n",
       "      <td>...</td>\n",
       "      <td>...</td>\n",
       "      <td>...</td>\n",
       "      <td>...</td>\n",
       "      <td>...</td>\n",
       "      <td>...</td>\n",
       "      <td>...</td>\n",
       "      <td>...</td>\n",
       "    </tr>\n",
       "    <tr>\n",
       "      <th>145844</th>\n",
       "      <td>372</td>\n",
       "      <td>Dundas St E / Parliament St</td>\n",
       "      <td>Dundas St E / Victoria St</td>\n",
       "      <td>23</td>\n",
       "      <td>2021-12-31</td>\n",
       "      <td>31</td>\n",
       "      <td>12</td>\n",
       "      <td>Friday</td>\n",
       "    </tr>\n",
       "    <tr>\n",
       "      <th>145845</th>\n",
       "      <td>762</td>\n",
       "      <td>King / Cowan Ave - SMART</td>\n",
       "      <td>Toronto Inukshuk Park</td>\n",
       "      <td>23</td>\n",
       "      <td>2021-12-31</td>\n",
       "      <td>31</td>\n",
       "      <td>12</td>\n",
       "      <td>Friday</td>\n",
       "    </tr>\n",
       "    <tr>\n",
       "      <th>145846</th>\n",
       "      <td>355</td>\n",
       "      <td>Dundas St E / Parliament St</td>\n",
       "      <td>Dundas St E / Victoria St</td>\n",
       "      <td>23</td>\n",
       "      <td>2021-12-31</td>\n",
       "      <td>31</td>\n",
       "      <td>12</td>\n",
       "      <td>Friday</td>\n",
       "    </tr>\n",
       "    <tr>\n",
       "      <th>145847</th>\n",
       "      <td>770</td>\n",
       "      <td>Granby St / Church St - SMART</td>\n",
       "      <td>York St / Queens Quay W</td>\n",
       "      <td>23</td>\n",
       "      <td>2021-12-31</td>\n",
       "      <td>31</td>\n",
       "      <td>12</td>\n",
       "      <td>Friday</td>\n",
       "    </tr>\n",
       "    <tr>\n",
       "      <th>145848</th>\n",
       "      <td>1307</td>\n",
       "      <td>Simcoe St / Wellington St South</td>\n",
       "      <td>12 Harbour St</td>\n",
       "      <td>23</td>\n",
       "      <td>2021-12-31</td>\n",
       "      <td>31</td>\n",
       "      <td>12</td>\n",
       "      <td>Friday</td>\n",
       "    </tr>\n",
       "  </tbody>\n",
       "</table>\n",
       "<p>3575182 rows × 8 columns</p>\n",
       "</div>"
      ],
      "text/plain": [
       "        Trip  Duration                    Start Station Name  \\\n",
       "0                 1315                    Bay St / Albert St   \n",
       "1                  396               Walnut Ave / Queen St W   \n",
       "2                   86              Hayter St / Laplante Ave   \n",
       "3                  741              Madison Ave / Bloor St W   \n",
       "4                 2073  Priscilla  Ave / Dundas St W - SMART   \n",
       "...                ...                                   ...   \n",
       "145844             372           Dundas St E / Parliament St   \n",
       "145845             762              King / Cowan Ave - SMART   \n",
       "145846             355           Dundas St E / Parliament St   \n",
       "145847             770         Granby St / Church St - SMART   \n",
       "145848            1307       Simcoe St / Wellington St South   \n",
       "\n",
       "                                End Station Name  hora       fecha  dia  mes  \\\n",
       "0       Gould St / Yonge St (Ryerson University)     0  2021-01-01    1    1   \n",
       "1                                    Lisgar Park     0  2021-01-01    1    1   \n",
       "2                Bay St / College St (East Side)     0  2021-01-01    1    1   \n",
       "3                Yonge St / Dundonald St - SMART     0  2021-01-01    1    1   \n",
       "4           Priscilla  Ave / Dundas St W - SMART     0  2021-01-01    1    1   \n",
       "...                                          ...   ...         ...  ...  ...   \n",
       "145844                 Dundas St E / Victoria St    23  2021-12-31   31   12   \n",
       "145845                     Toronto Inukshuk Park    23  2021-12-31   31   12   \n",
       "145846                 Dundas St E / Victoria St    23  2021-12-31   31   12   \n",
       "145847                   York St / Queens Quay W    23  2021-12-31   31   12   \n",
       "145848                             12 Harbour St    23  2021-12-31   31   12   \n",
       "\n",
       "       dia de semana  \n",
       "0             Friday  \n",
       "1             Friday  \n",
       "2             Friday  \n",
       "3             Friday  \n",
       "4             Friday  \n",
       "...              ...  \n",
       "145844        Friday  \n",
       "145845        Friday  \n",
       "145846        Friday  \n",
       "145847        Friday  \n",
       "145848        Friday  \n",
       "\n",
       "[3575182 rows x 8 columns]"
      ]
     },
     "execution_count": 5,
     "metadata": {},
     "output_type": "execute_result"
    }
   ],
   "source": [
    "#Dataframe final\n",
    "df"
   ]
  },
  {
   "cell_type": "markdown",
   "id": "f9c86acc-9b47-4c74-afc9-ea452c274a60",
   "metadata": {},
   "source": [
    "# Analisis de los datos"
   ]
  },
  {
   "cell_type": "markdown",
   "id": "a226b8e3-e9d4-4178-8ad0-c706afa85bd4",
   "metadata": {},
   "source": [
    "Partimos importando el dataframe que creamos durante la limpieza de datos"
   ]
  },
  {
   "cell_type": "code",
   "execution_count": 6,
   "id": "9c53c013-032c-445d-87f9-0fda77f28fa6",
   "metadata": {},
   "outputs": [
    {
     "data": {
      "text/html": [
       "<div>\n",
       "<style scoped>\n",
       "    .dataframe tbody tr th:only-of-type {\n",
       "        vertical-align: middle;\n",
       "    }\n",
       "\n",
       "    .dataframe tbody tr th {\n",
       "        vertical-align: top;\n",
       "    }\n",
       "\n",
       "    .dataframe thead th {\n",
       "        text-align: right;\n",
       "    }\n",
       "</style>\n",
       "<table border=\"1\" class=\"dataframe\">\n",
       "  <thead>\n",
       "    <tr style=\"text-align: right;\">\n",
       "      <th></th>\n",
       "      <th>Unnamed: 0</th>\n",
       "      <th>Trip  Duration</th>\n",
       "      <th>Start Station Name</th>\n",
       "      <th>End Station Name</th>\n",
       "      <th>hora</th>\n",
       "      <th>fecha</th>\n",
       "      <th>dia</th>\n",
       "      <th>mes</th>\n",
       "      <th>dia de semana</th>\n",
       "    </tr>\n",
       "  </thead>\n",
       "  <tbody>\n",
       "    <tr>\n",
       "      <th>0</th>\n",
       "      <td>0</td>\n",
       "      <td>1315</td>\n",
       "      <td>Bay St / Albert St</td>\n",
       "      <td>Gould St / Yonge St (Ryerson University)</td>\n",
       "      <td>0</td>\n",
       "      <td>2021-01-01</td>\n",
       "      <td>1</td>\n",
       "      <td>1</td>\n",
       "      <td>Friday</td>\n",
       "    </tr>\n",
       "    <tr>\n",
       "      <th>1</th>\n",
       "      <td>1</td>\n",
       "      <td>396</td>\n",
       "      <td>Walnut Ave / Queen St W</td>\n",
       "      <td>Lisgar Park</td>\n",
       "      <td>0</td>\n",
       "      <td>2021-01-01</td>\n",
       "      <td>1</td>\n",
       "      <td>1</td>\n",
       "      <td>Friday</td>\n",
       "    </tr>\n",
       "    <tr>\n",
       "      <th>2</th>\n",
       "      <td>2</td>\n",
       "      <td>86</td>\n",
       "      <td>Hayter St / Laplante Ave</td>\n",
       "      <td>Bay St / College St (East Side)</td>\n",
       "      <td>0</td>\n",
       "      <td>2021-01-01</td>\n",
       "      <td>1</td>\n",
       "      <td>1</td>\n",
       "      <td>Friday</td>\n",
       "    </tr>\n",
       "    <tr>\n",
       "      <th>3</th>\n",
       "      <td>3</td>\n",
       "      <td>741</td>\n",
       "      <td>Madison Ave / Bloor St W</td>\n",
       "      <td>Yonge St / Dundonald St - SMART</td>\n",
       "      <td>0</td>\n",
       "      <td>2021-01-01</td>\n",
       "      <td>1</td>\n",
       "      <td>1</td>\n",
       "      <td>Friday</td>\n",
       "    </tr>\n",
       "    <tr>\n",
       "      <th>4</th>\n",
       "      <td>4</td>\n",
       "      <td>2073</td>\n",
       "      <td>Priscilla  Ave / Dundas St W - SMART</td>\n",
       "      <td>Priscilla  Ave / Dundas St W - SMART</td>\n",
       "      <td>0</td>\n",
       "      <td>2021-01-01</td>\n",
       "      <td>1</td>\n",
       "      <td>1</td>\n",
       "      <td>Friday</td>\n",
       "    </tr>\n",
       "    <tr>\n",
       "      <th>...</th>\n",
       "      <td>...</td>\n",
       "      <td>...</td>\n",
       "      <td>...</td>\n",
       "      <td>...</td>\n",
       "      <td>...</td>\n",
       "      <td>...</td>\n",
       "      <td>...</td>\n",
       "      <td>...</td>\n",
       "      <td>...</td>\n",
       "    </tr>\n",
       "    <tr>\n",
       "      <th>3575177</th>\n",
       "      <td>145844</td>\n",
       "      <td>372</td>\n",
       "      <td>Dundas St E / Parliament St</td>\n",
       "      <td>Dundas St E / Victoria St</td>\n",
       "      <td>23</td>\n",
       "      <td>2021-12-31</td>\n",
       "      <td>31</td>\n",
       "      <td>12</td>\n",
       "      <td>Friday</td>\n",
       "    </tr>\n",
       "    <tr>\n",
       "      <th>3575178</th>\n",
       "      <td>145845</td>\n",
       "      <td>762</td>\n",
       "      <td>King / Cowan Ave - SMART</td>\n",
       "      <td>Toronto Inukshuk Park</td>\n",
       "      <td>23</td>\n",
       "      <td>2021-12-31</td>\n",
       "      <td>31</td>\n",
       "      <td>12</td>\n",
       "      <td>Friday</td>\n",
       "    </tr>\n",
       "    <tr>\n",
       "      <th>3575179</th>\n",
       "      <td>145846</td>\n",
       "      <td>355</td>\n",
       "      <td>Dundas St E / Parliament St</td>\n",
       "      <td>Dundas St E / Victoria St</td>\n",
       "      <td>23</td>\n",
       "      <td>2021-12-31</td>\n",
       "      <td>31</td>\n",
       "      <td>12</td>\n",
       "      <td>Friday</td>\n",
       "    </tr>\n",
       "    <tr>\n",
       "      <th>3575180</th>\n",
       "      <td>145847</td>\n",
       "      <td>770</td>\n",
       "      <td>Granby St / Church St - SMART</td>\n",
       "      <td>York St / Queens Quay W</td>\n",
       "      <td>23</td>\n",
       "      <td>2021-12-31</td>\n",
       "      <td>31</td>\n",
       "      <td>12</td>\n",
       "      <td>Friday</td>\n",
       "    </tr>\n",
       "    <tr>\n",
       "      <th>3575181</th>\n",
       "      <td>145848</td>\n",
       "      <td>1307</td>\n",
       "      <td>Simcoe St / Wellington St South</td>\n",
       "      <td>12 Harbour St</td>\n",
       "      <td>23</td>\n",
       "      <td>2021-12-31</td>\n",
       "      <td>31</td>\n",
       "      <td>12</td>\n",
       "      <td>Friday</td>\n",
       "    </tr>\n",
       "  </tbody>\n",
       "</table>\n",
       "<p>3575182 rows × 9 columns</p>\n",
       "</div>"
      ],
      "text/plain": [
       "         Unnamed: 0  Trip  Duration                    Start Station Name  \\\n",
       "0                 0            1315                    Bay St / Albert St   \n",
       "1                 1             396               Walnut Ave / Queen St W   \n",
       "2                 2              86              Hayter St / Laplante Ave   \n",
       "3                 3             741              Madison Ave / Bloor St W   \n",
       "4                 4            2073  Priscilla  Ave / Dundas St W - SMART   \n",
       "...             ...             ...                                   ...   \n",
       "3575177      145844             372           Dundas St E / Parliament St   \n",
       "3575178      145845             762              King / Cowan Ave - SMART   \n",
       "3575179      145846             355           Dundas St E / Parliament St   \n",
       "3575180      145847             770         Granby St / Church St - SMART   \n",
       "3575181      145848            1307       Simcoe St / Wellington St South   \n",
       "\n",
       "                                 End Station Name  hora       fecha  dia  mes  \\\n",
       "0        Gould St / Yonge St (Ryerson University)     0  2021-01-01    1    1   \n",
       "1                                     Lisgar Park     0  2021-01-01    1    1   \n",
       "2                 Bay St / College St (East Side)     0  2021-01-01    1    1   \n",
       "3                 Yonge St / Dundonald St - SMART     0  2021-01-01    1    1   \n",
       "4            Priscilla  Ave / Dundas St W - SMART     0  2021-01-01    1    1   \n",
       "...                                           ...   ...         ...  ...  ...   \n",
       "3575177                 Dundas St E / Victoria St    23  2021-12-31   31   12   \n",
       "3575178                     Toronto Inukshuk Park    23  2021-12-31   31   12   \n",
       "3575179                 Dundas St E / Victoria St    23  2021-12-31   31   12   \n",
       "3575180                   York St / Queens Quay W    23  2021-12-31   31   12   \n",
       "3575181                             12 Harbour St    23  2021-12-31   31   12   \n",
       "\n",
       "        dia de semana  \n",
       "0              Friday  \n",
       "1              Friday  \n",
       "2              Friday  \n",
       "3              Friday  \n",
       "4              Friday  \n",
       "...               ...  \n",
       "3575177        Friday  \n",
       "3575178        Friday  \n",
       "3575179        Friday  \n",
       "3575180        Friday  \n",
       "3575181        Friday  \n",
       "\n",
       "[3575182 rows x 9 columns]"
      ]
     },
     "execution_count": 6,
     "metadata": {},
     "output_type": "execute_result"
    }
   ],
   "source": [
    "#importacion del dataframe \n",
    "df = pd.read_csv(\"bicis.csv\")\n",
    "df"
   ]
  },
  {
   "cell_type": "markdown",
   "id": "85d234c6-ecb5-4eec-be70-cfc76b0b3d69",
   "metadata": {},
   "source": [
    "Primero se realizaron 5 histogramas para poder observar distintas tendencias. Uno que muestra el día de la semana donde hubo el mayor número de viajes, el segundo que muestra el mes donde se realizaron más viajes en bicicletas, el tercero que indica las horas de mayor uso y otros dos donde se observan las diez estaciones de salida y llegada con mayor demanda durante el año. "
   ]
  },
  {
   "cell_type": "code",
   "execution_count": 7,
   "id": "4eba939f-4e3e-4097-9709-40c007baccd2",
   "metadata": {},
   "outputs": [
    {
     "data": {
      "text/plain": [
       "\"Index(['Saturday'], dtype='object')\""
      ]
     },
     "execution_count": 7,
     "metadata": {},
     "output_type": "execute_result"
    },
    {
     "data": {
      "image/png": "[encoded data removed]",
      "text/plain": [
       "<Figure size 432x288 with 1 Axes>"
      ]
     },
     "metadata": {
      "needs_background": "light"
     },
     "output_type": "display_data"
    }
   ],
   "source": [
    "#Día de la semana con mayor número de viajes.\n",
    "sns.countplot(x=df['dia de semana'], data=df)\n",
    "plt.title('Viajes en Bicicleta Toronto 2021')\n",
    "str(df['dia de semana'].value_counts().index[0:1])\n",
    "   "
   ]
  },
  {
   "cell_type": "markdown",
   "id": "4e80a05d-de03-4ec8-b69d-2941b61576e1",
   "metadata": {},
   "source": [
    "Como primera impresión, podemos ver que la tendencia de viajes confirma la tesis \"popular\", de que en el periodo del fin de semana, el volumen de viajes se alza frente al resto de los días."
   ]
  },
  {
   "cell_type": "code",
   "execution_count": 8,
   "id": "95143d36-a62b-4d1e-bd1b-b49fc40d56a5",
   "metadata": {
    "scrolled": true
   },
   "outputs": [
    {
     "data": {
      "text/plain": [
       "\"Int64Index([8], dtype='int64')\""
      ]
     },
     "execution_count": 8,
     "metadata": {},
     "output_type": "execute_result"
    },
    {
     "data": {
      "image/png": "[encoded data removed]",
      "text/plain": [
       "<Figure size 432x288 with 1 Axes>"
      ]
     },
     "metadata": {
      "needs_background": "light"
     },
     "output_type": "display_data"
    }
   ],
   "source": [
    "#Mes con mayor número de viajes.\n",
    "sns.countplot(x=df['mes'], data=df)\n",
    "plt.title('Viajes en Bicicleta Toronto 2021')\n",
    "str(df['mes'].value_counts().index[0:1])"
   ]
  },
  {
   "cell_type": "markdown",
   "id": "7363cbd5-36f7-4774-9c33-9dfe7f1abcbf",
   "metadata": {},
   "source": [
    "Y también, en base al gráfico aperturado por mes, nos confirma que la tendencia de viajes es y responde a una estacionalidad, teniendo en cuenta que estamos hablando de una ciudad que está en el hemisferio norte, el volumen de viajes se concentra en su temporada \"Primavera/Verano\", hallando un cuantioso salto entre el mes de Abril (primer mes de primavera en Toronto), con Mayo hasta Octubre, que es cuando comienza la etapa de Otoño. Nuevamente confirmando que el servicio si bien es usado, obedece a variables estacionarias."
   ]
  },
  {
   "cell_type": "code",
   "execution_count": 9,
   "id": "850d7ce1-00be-4480-a855-d2e53b4c9555",
   "metadata": {},
   "outputs": [
    {
     "data": {
      "text/plain": [
       "\"Int64Index([17], dtype='int64')\""
      ]
     },
     "execution_count": 9,
     "metadata": {},
     "output_type": "execute_result"
    },
    {
     "data": {
      "image/png": "[encoded data removed]",
      "text/plain": [
       "<Figure size 432x288 with 1 Axes>"
      ]
     },
     "metadata": {
      "needs_background": "light"
     },
     "output_type": "display_data"
    }
   ],
   "source": [
    "#Hora del día con mayor numero de viajes\n",
    "sns.countplot(x=df['hora'], data=df)\n",
    "plt.title('Viajes en Bicicleta Toronto 2021')\n",
    "str(df['hora'].value_counts().index[0:1])"
   ]
  },
  {
   "cell_type": "markdown",
   "id": "0242a582-324c-48f1-b288-92583696cd06",
   "metadata": {},
   "source": [
    "De acuerdo al gráfico podemos observar que el horario con mayor recurrencia de uso del servicio, es entre las 16 y las 19 horas, siendo el peak las 17:00 horas."
   ]
  },
  {
   "cell_type": "code",
   "execution_count": 10,
   "id": "84f8a59d-4a4c-42b2-9585-10d0802079b2",
   "metadata": {},
   "outputs": [
    {
     "data": {
      "text/plain": [
       "Text(0.5, 1.0, 'Viajes en Bicicleta Toronto 2021')"
      ]
     },
     "execution_count": 10,
     "metadata": {},
     "output_type": "execute_result"
    },
    {
     "data": {
      "image/png": "[encoded data removed]",
      "text/plain": [
       "<Figure size 432x288 with 1 Axes>"
      ]
     },
     "metadata": {
      "needs_background": "light"
     },
     "output_type": "display_data"
    }
   ],
   "source": [
    "#Top 10 estaciones de salida con mayor número de viajes\n",
    "sns.countplot(y=df['Start Station Name'], order = df['Start Station Name'].value_counts().index[0:10],  data=df)\n",
    "plt.title('Viajes en Bicicleta Toronto 2021')"
   ]
  },
  {
   "cell_type": "code",
   "execution_count": 11,
   "id": "086fbc36-c27b-4e5a-86f5-88de8ae25875",
   "metadata": {},
   "outputs": [
    {
     "data": {
      "text/plain": [
       "Text(0.5, 1.0, 'Viajes en Bicicleta Toronto 2021')"
      ]
     },
     "execution_count": 11,
     "metadata": {},
     "output_type": "execute_result"
    },
    {
     "data": {
      "image/png": "[encoded data removed]",
      "text/plain": [
       "<Figure size 432x288 with 1 Axes>"
      ]
     },
     "metadata": {
      "needs_background": "light"
     },
     "output_type": "display_data"
    }
   ],
   "source": [
    "#Top 10 estaciones de llegada con mayor número de viajes\n",
    "sns.countplot(y=df['End Station Name'], order = df['End Station Name'].value_counts().index[0:10],  data=df)\n",
    "plt.title('Viajes en Bicicleta Toronto 2021')\n"
   ]
  },
  {
   "cell_type": "markdown",
   "id": "a85a7219-f871-4a90-a902-ed082b438b27",
   "metadata": {},
   "source": [
    "En base al registro de los dos gráficos anteriores en donde se muestran las estaciones con más viajes de salidas y más llegadas de sus usuarios, la tendencia suele ser similar, pero en ambas destaca que la estación \"York ST/Queens Quay W\",  es la que tiene más número de viajes en ambos casos, pudiendo inferir en ésto, que esta estación es la más popular de Toronto."
   ]
  },
  {
   "cell_type": "markdown",
   "id": "0b22f036-43a2-4379-8fdb-eae3ec16a26e",
   "metadata": {
    "tags": []
   },
   "source": [
    "# Predicción usando serie de tiempo"
   ]
  },
  {
   "cell_type": "markdown",
   "id": "4ef3184b-54f1-4924-b1d9-5079d14cc3fc",
   "metadata": {},
   "source": [
    "Una vez analizado el contexto del servicio de bicicletas en Toronto, se decidió estudiar la estación más popular: \"York ST/Queens Quay W\" y en base a esta, desarrollaremos la predicción de tiempo, éstos con los modelos ARMA y ARIMA, en primera instancia para proyectar el uso de la estación más popular, utilizando ambos métodos de predicción y luego, para predecir el uso diario de las bicicletas durante los meses de Enero y Febrero del año 2022."
   ]
  },
  {
   "cell_type": "markdown",
   "id": "ae964f35-e7a6-4414-8954-5f4dacdc68e1",
   "metadata": {},
   "source": [
    "Filtraremos nuesto dataframe para analizar solo la estación York ST/Queens Quay W, la cual se determinó fue la más concurrida durante el año."
   ]
  },
  {
   "cell_type": "code",
   "execution_count": 12,
   "id": "2209d663-8146-4af3-a917-5ee91bad8319",
   "metadata": {},
   "outputs": [
    {
     "data": {
      "text/html": [
       "<div>\n",
       "<style scoped>\n",
       "    .dataframe tbody tr th:only-of-type {\n",
       "        vertical-align: middle;\n",
       "    }\n",
       "\n",
       "    .dataframe tbody tr th {\n",
       "        vertical-align: top;\n",
       "    }\n",
       "\n",
       "    .dataframe thead th {\n",
       "        text-align: right;\n",
       "    }\n",
       "</style>\n",
       "<table border=\"1\" class=\"dataframe\">\n",
       "  <thead>\n",
       "    <tr style=\"text-align: right;\">\n",
       "      <th></th>\n",
       "      <th>Trip  Duration</th>\n",
       "      <th>Start Station Name</th>\n",
       "      <th>End Station Name</th>\n",
       "      <th>hora</th>\n",
       "      <th>fecha</th>\n",
       "      <th>dia</th>\n",
       "      <th>mes</th>\n",
       "      <th>dia de semana</th>\n",
       "    </tr>\n",
       "  </thead>\n",
       "  <tbody>\n",
       "    <tr>\n",
       "      <th>556</th>\n",
       "      <td>448</td>\n",
       "      <td>York St / Queens Quay W</td>\n",
       "      <td>Little Norway Park</td>\n",
       "      <td>12</td>\n",
       "      <td>2021-01-01</td>\n",
       "      <td>1</td>\n",
       "      <td>1</td>\n",
       "      <td>Friday</td>\n",
       "    </tr>\n",
       "    <tr>\n",
       "      <th>619</th>\n",
       "      <td>1159</td>\n",
       "      <td>York St / Queens Quay W</td>\n",
       "      <td>Madison Ave / Bloor St W</td>\n",
       "      <td>12</td>\n",
       "      <td>2021-01-01</td>\n",
       "      <td>1</td>\n",
       "      <td>1</td>\n",
       "      <td>Friday</td>\n",
       "    </tr>\n",
       "    <tr>\n",
       "      <th>700</th>\n",
       "      <td>651</td>\n",
       "      <td>York St / Queens Quay W</td>\n",
       "      <td>Wellington St W / Portland St</td>\n",
       "      <td>13</td>\n",
       "      <td>2021-01-01</td>\n",
       "      <td>1</td>\n",
       "      <td>1</td>\n",
       "      <td>Friday</td>\n",
       "    </tr>\n",
       "    <tr>\n",
       "      <th>1157</th>\n",
       "      <td>3176</td>\n",
       "      <td>York St / Queens Quay W</td>\n",
       "      <td>York St / Lake Shore Blvd W</td>\n",
       "      <td>15</td>\n",
       "      <td>2021-01-01</td>\n",
       "      <td>1</td>\n",
       "      <td>1</td>\n",
       "      <td>Friday</td>\n",
       "    </tr>\n",
       "    <tr>\n",
       "      <th>1238</th>\n",
       "      <td>996</td>\n",
       "      <td>York St / Queens Quay W</td>\n",
       "      <td>York St / Queens Quay W</td>\n",
       "      <td>15</td>\n",
       "      <td>2021-01-01</td>\n",
       "      <td>1</td>\n",
       "      <td>1</td>\n",
       "      <td>Friday</td>\n",
       "    </tr>\n",
       "    <tr>\n",
       "      <th>...</th>\n",
       "      <td>...</td>\n",
       "      <td>...</td>\n",
       "      <td>...</td>\n",
       "      <td>...</td>\n",
       "      <td>...</td>\n",
       "      <td>...</td>\n",
       "      <td>...</td>\n",
       "      <td>...</td>\n",
       "    </tr>\n",
       "    <tr>\n",
       "      <th>3574588</th>\n",
       "      <td>1417</td>\n",
       "      <td>York St / Queens Quay W</td>\n",
       "      <td>HTO Park (Queens Quay W)</td>\n",
       "      <td>20</td>\n",
       "      <td>2021-12-31</td>\n",
       "      <td>31</td>\n",
       "      <td>12</td>\n",
       "      <td>Friday</td>\n",
       "    </tr>\n",
       "    <tr>\n",
       "      <th>3574589</th>\n",
       "      <td>1408</td>\n",
       "      <td>York St / Queens Quay W</td>\n",
       "      <td>HTO Park (Queens Quay W)</td>\n",
       "      <td>20</td>\n",
       "      <td>2021-12-31</td>\n",
       "      <td>31</td>\n",
       "      <td>12</td>\n",
       "      <td>Friday</td>\n",
       "    </tr>\n",
       "    <tr>\n",
       "      <th>3574591</th>\n",
       "      <td>1399</td>\n",
       "      <td>York St / Queens Quay W</td>\n",
       "      <td>HTO Park (Queens Quay W)</td>\n",
       "      <td>20</td>\n",
       "      <td>2021-12-31</td>\n",
       "      <td>31</td>\n",
       "      <td>12</td>\n",
       "      <td>Friday</td>\n",
       "    </tr>\n",
       "    <tr>\n",
       "      <th>3574594</th>\n",
       "      <td>1361</td>\n",
       "      <td>York St / Queens Quay W</td>\n",
       "      <td>HTO Park (Queens Quay W)</td>\n",
       "      <td>20</td>\n",
       "      <td>2021-12-31</td>\n",
       "      <td>31</td>\n",
       "      <td>12</td>\n",
       "      <td>Friday</td>\n",
       "    </tr>\n",
       "    <tr>\n",
       "      <th>3574893</th>\n",
       "      <td>974</td>\n",
       "      <td>York St / Queens Quay W</td>\n",
       "      <td>Front St W / Yonge St (Hockey Hall of Fame)</td>\n",
       "      <td>22</td>\n",
       "      <td>2021-12-31</td>\n",
       "      <td>31</td>\n",
       "      <td>12</td>\n",
       "      <td>Friday</td>\n",
       "    </tr>\n",
       "  </tbody>\n",
       "</table>\n",
       "<p>35868 rows × 8 columns</p>\n",
       "</div>"
      ],
      "text/plain": [
       "         Trip  Duration       Start Station Name  \\\n",
       "556                 448  York St / Queens Quay W   \n",
       "619                1159  York St / Queens Quay W   \n",
       "700                 651  York St / Queens Quay W   \n",
       "1157               3176  York St / Queens Quay W   \n",
       "1238                996  York St / Queens Quay W   \n",
       "...                 ...                      ...   \n",
       "3574588            1417  York St / Queens Quay W   \n",
       "3574589            1408  York St / Queens Quay W   \n",
       "3574591            1399  York St / Queens Quay W   \n",
       "3574594            1361  York St / Queens Quay W   \n",
       "3574893             974  York St / Queens Quay W   \n",
       "\n",
       "                                    End Station Name  hora       fecha  dia  \\\n",
       "556                               Little Norway Park    12  2021-01-01    1   \n",
       "619                         Madison Ave / Bloor St W    12  2021-01-01    1   \n",
       "700                    Wellington St W / Portland St    13  2021-01-01    1   \n",
       "1157                     York St / Lake Shore Blvd W    15  2021-01-01    1   \n",
       "1238                         York St / Queens Quay W    15  2021-01-01    1   \n",
       "...                                              ...   ...         ...  ...   \n",
       "3574588                     HTO Park (Queens Quay W)    20  2021-12-31   31   \n",
       "3574589                     HTO Park (Queens Quay W)    20  2021-12-31   31   \n",
       "3574591                     HTO Park (Queens Quay W)    20  2021-12-31   31   \n",
       "3574594                     HTO Park (Queens Quay W)    20  2021-12-31   31   \n",
       "3574893  Front St W / Yonge St (Hockey Hall of Fame)    22  2021-12-31   31   \n",
       "\n",
       "         mes dia de semana  \n",
       "556        1        Friday  \n",
       "619        1        Friday  \n",
       "700        1        Friday  \n",
       "1157       1        Friday  \n",
       "1238       1        Friday  \n",
       "...      ...           ...  \n",
       "3574588   12        Friday  \n",
       "3574589   12        Friday  \n",
       "3574591   12        Friday  \n",
       "3574594   12        Friday  \n",
       "3574893   12        Friday  \n",
       "\n",
       "[35868 rows x 8 columns]"
      ]
     },
     "execution_count": 12,
     "metadata": {},
     "output_type": "execute_result"
    }
   ],
   "source": [
    "#Dataframe con la estación de salida mas usada\n",
    "df_station = df[df['Start Station Name']== 'York St / Queens Quay W']\n",
    "df_station.pop('Unnamed: 0')\n",
    "df_station"
   ]
  },
  {
   "cell_type": "markdown",
   "id": "28a77578-6475-4143-af6c-92a7e5a01904",
   "metadata": {},
   "source": [
    "Crearemos un dataframe con la duración de viaje promedio para cada día"
   ]
  },
  {
   "cell_type": "code",
   "execution_count": 13,
   "id": "1816ef94-be67-4bdf-8222-c4d0af8882da",
   "metadata": {},
   "outputs": [
    {
     "data": {
      "text/html": [
       "<div>\n",
       "<style scoped>\n",
       "    .dataframe tbody tr th:only-of-type {\n",
       "        vertical-align: middle;\n",
       "    }\n",
       "\n",
       "    .dataframe tbody tr th {\n",
       "        vertical-align: top;\n",
       "    }\n",
       "\n",
       "    .dataframe thead th {\n",
       "        text-align: right;\n",
       "    }\n",
       "</style>\n",
       "<table border=\"1\" class=\"dataframe\">\n",
       "  <thead>\n",
       "    <tr style=\"text-align: right;\">\n",
       "      <th></th>\n",
       "      <th>fecha</th>\n",
       "      <th>Trip  Duration</th>\n",
       "      <th>hora</th>\n",
       "      <th>dia</th>\n",
       "      <th>mes</th>\n",
       "    </tr>\n",
       "  </thead>\n",
       "  <tbody>\n",
       "    <tr>\n",
       "      <th>0</th>\n",
       "      <td>2021-01-01</td>\n",
       "      <td>1350.500000</td>\n",
       "      <td>14.000000</td>\n",
       "      <td>1.0</td>\n",
       "      <td>1.0</td>\n",
       "    </tr>\n",
       "    <tr>\n",
       "      <th>1</th>\n",
       "      <td>2021-01-02</td>\n",
       "      <td>958.142857</td>\n",
       "      <td>16.285714</td>\n",
       "      <td>2.0</td>\n",
       "      <td>1.0</td>\n",
       "    </tr>\n",
       "    <tr>\n",
       "      <th>2</th>\n",
       "      <td>2021-01-03</td>\n",
       "      <td>883.750000</td>\n",
       "      <td>16.625000</td>\n",
       "      <td>3.0</td>\n",
       "      <td>1.0</td>\n",
       "    </tr>\n",
       "    <tr>\n",
       "      <th>3</th>\n",
       "      <td>2021-01-04</td>\n",
       "      <td>1072.857143</td>\n",
       "      <td>14.285714</td>\n",
       "      <td>4.0</td>\n",
       "      <td>1.0</td>\n",
       "    </tr>\n",
       "    <tr>\n",
       "      <th>4</th>\n",
       "      <td>2021-01-05</td>\n",
       "      <td>1252.333333</td>\n",
       "      <td>13.611111</td>\n",
       "      <td>5.0</td>\n",
       "      <td>1.0</td>\n",
       "    </tr>\n",
       "    <tr>\n",
       "      <th>...</th>\n",
       "      <td>...</td>\n",
       "      <td>...</td>\n",
       "      <td>...</td>\n",
       "      <td>...</td>\n",
       "      <td>...</td>\n",
       "    </tr>\n",
       "    <tr>\n",
       "      <th>360</th>\n",
       "      <td>2021-12-27</td>\n",
       "      <td>864.545455</td>\n",
       "      <td>13.090909</td>\n",
       "      <td>27.0</td>\n",
       "      <td>12.0</td>\n",
       "    </tr>\n",
       "    <tr>\n",
       "      <th>361</th>\n",
       "      <td>2021-12-28</td>\n",
       "      <td>786.550000</td>\n",
       "      <td>13.500000</td>\n",
       "      <td>28.0</td>\n",
       "      <td>12.0</td>\n",
       "    </tr>\n",
       "    <tr>\n",
       "      <th>362</th>\n",
       "      <td>2021-12-29</td>\n",
       "      <td>824.500000</td>\n",
       "      <td>13.583333</td>\n",
       "      <td>29.0</td>\n",
       "      <td>12.0</td>\n",
       "    </tr>\n",
       "    <tr>\n",
       "      <th>363</th>\n",
       "      <td>2021-12-30</td>\n",
       "      <td>615.300000</td>\n",
       "      <td>14.700000</td>\n",
       "      <td>30.0</td>\n",
       "      <td>12.0</td>\n",
       "    </tr>\n",
       "    <tr>\n",
       "      <th>364</th>\n",
       "      <td>2021-12-31</td>\n",
       "      <td>1077.354839</td>\n",
       "      <td>16.225806</td>\n",
       "      <td>31.0</td>\n",
       "      <td>12.0</td>\n",
       "    </tr>\n",
       "  </tbody>\n",
       "</table>\n",
       "<p>365 rows × 5 columns</p>\n",
       "</div>"
      ],
      "text/plain": [
       "          fecha  Trip  Duration       hora   dia   mes\n",
       "0    2021-01-01     1350.500000  14.000000   1.0   1.0\n",
       "1    2021-01-02      958.142857  16.285714   2.0   1.0\n",
       "2    2021-01-03      883.750000  16.625000   3.0   1.0\n",
       "3    2021-01-04     1072.857143  14.285714   4.0   1.0\n",
       "4    2021-01-05     1252.333333  13.611111   5.0   1.0\n",
       "..          ...             ...        ...   ...   ...\n",
       "360  2021-12-27      864.545455  13.090909  27.0  12.0\n",
       "361  2021-12-28      786.550000  13.500000  28.0  12.0\n",
       "362  2021-12-29      824.500000  13.583333  29.0  12.0\n",
       "363  2021-12-30      615.300000  14.700000  30.0  12.0\n",
       "364  2021-12-31     1077.354839  16.225806  31.0  12.0\n",
       "\n",
       "[365 rows x 5 columns]"
      ]
     },
     "execution_count": 13,
     "metadata": {},
     "output_type": "execute_result"
    }
   ],
   "source": [
    "#Dataframe con valores promedio por día \n",
    "means = df_station.groupby('fecha', as_index=False ).mean()\n",
    "means"
   ]
  },
  {
   "cell_type": "markdown",
   "id": "76327b7e-5c17-4a7c-b97b-3c090463cf7e",
   "metadata": {},
   "source": [
    "Y otro DataFrame donde tendremos la cantidad de viajes que se realizaron en la estación cada día"
   ]
  },
  {
   "cell_type": "code",
   "execution_count": 14,
   "id": "8340d790-ed93-4ae7-a656-5c8ad8c8db12",
   "metadata": {},
   "outputs": [
    {
     "data": {
      "text/html": [
       "<div>\n",
       "<style scoped>\n",
       "    .dataframe tbody tr th:only-of-type {\n",
       "        vertical-align: middle;\n",
       "    }\n",
       "\n",
       "    .dataframe tbody tr th {\n",
       "        vertical-align: top;\n",
       "    }\n",
       "\n",
       "    .dataframe thead th {\n",
       "        text-align: right;\n",
       "    }\n",
       "</style>\n",
       "<table border=\"1\" class=\"dataframe\">\n",
       "  <thead>\n",
       "    <tr style=\"text-align: right;\">\n",
       "      <th></th>\n",
       "      <th>count</th>\n",
       "    </tr>\n",
       "  </thead>\n",
       "  <tbody>\n",
       "    <tr>\n",
       "      <th>2021-01-01</th>\n",
       "      <td>6</td>\n",
       "    </tr>\n",
       "    <tr>\n",
       "      <th>2021-01-02</th>\n",
       "      <td>7</td>\n",
       "    </tr>\n",
       "    <tr>\n",
       "      <th>2021-01-03</th>\n",
       "      <td>8</td>\n",
       "    </tr>\n",
       "    <tr>\n",
       "      <th>2021-01-04</th>\n",
       "      <td>14</td>\n",
       "    </tr>\n",
       "    <tr>\n",
       "      <th>2021-01-05</th>\n",
       "      <td>18</td>\n",
       "    </tr>\n",
       "    <tr>\n",
       "      <th>...</th>\n",
       "      <td>...</td>\n",
       "    </tr>\n",
       "    <tr>\n",
       "      <th>2021-12-27</th>\n",
       "      <td>11</td>\n",
       "    </tr>\n",
       "    <tr>\n",
       "      <th>2021-12-28</th>\n",
       "      <td>20</td>\n",
       "    </tr>\n",
       "    <tr>\n",
       "      <th>2021-12-29</th>\n",
       "      <td>12</td>\n",
       "    </tr>\n",
       "    <tr>\n",
       "      <th>2021-12-30</th>\n",
       "      <td>10</td>\n",
       "    </tr>\n",
       "    <tr>\n",
       "      <th>2021-12-31</th>\n",
       "      <td>31</td>\n",
       "    </tr>\n",
       "  </tbody>\n",
       "</table>\n",
       "<p>365 rows × 1 columns</p>\n",
       "</div>"
      ],
      "text/plain": [
       "            count\n",
       "2021-01-01      6\n",
       "2021-01-02      7\n",
       "2021-01-03      8\n",
       "2021-01-04     14\n",
       "2021-01-05     18\n",
       "...           ...\n",
       "2021-12-27     11\n",
       "2021-12-28     20\n",
       "2021-12-29     12\n",
       "2021-12-30     10\n",
       "2021-12-31     31\n",
       "\n",
       "[365 rows x 1 columns]"
      ]
     },
     "execution_count": 14,
     "metadata": {},
     "output_type": "execute_result"
    }
   ],
   "source": [
    "#Juntamos frecuencias por día.\n",
    "val = df_station['fecha'].value_counts().sort_index()\n",
    "df2 = val.to_frame()\n",
    "df2 = df2.rename(columns={'fecha':'count'})\n",
    "df2"
   ]
  },
  {
   "cell_type": "markdown",
   "id": "ca74030b-ac98-466f-89c3-95010787730a",
   "metadata": {},
   "source": [
    "Crearemos un dataframe con las fechas que queremos predecir, en este caso lo haremos para los meses Enero y Febrero del año 2022"
   ]
  },
  {
   "cell_type": "code",
   "execution_count": 15,
   "id": "af4c7b77-5249-4f70-b0c9-57c1c014f47a",
   "metadata": {},
   "outputs": [
    {
     "data": {
      "text/plain": [
       "Index([2022-01-01, 2022-01-02, 2022-01-03, 2022-01-04, 2022-01-05, 2022-01-06,\n",
       "       2022-01-07, 2022-01-08, 2022-01-09, 2022-01-10, 2022-01-11, 2022-01-12,\n",
       "       2022-01-13, 2022-01-14, 2022-01-15, 2022-01-16, 2022-01-17, 2022-01-18,\n",
       "       2022-01-19, 2022-01-20, 2022-01-21, 2022-01-22, 2022-01-23, 2022-01-24,\n",
       "       2022-01-25, 2022-01-26, 2022-01-27, 2022-01-28, 2022-01-29, 2022-01-30,\n",
       "       2022-01-31, 2022-02-01, 2022-02-02, 2022-02-03, 2022-02-04, 2022-02-05,\n",
       "       2022-02-06, 2022-02-07, 2022-02-08, 2022-02-09, 2022-02-10, 2022-02-11,\n",
       "       2022-02-12, 2022-02-13, 2022-02-14, 2022-02-15, 2022-02-16, 2022-02-17,\n",
       "       2022-02-18, 2022-02-19, 2022-02-20, 2022-02-21, 2022-02-22, 2022-02-23,\n",
       "       2022-02-24, 2022-02-25, 2022-02-26, 2022-02-27, 2022-02-28],\n",
       "      dtype='object')"
      ]
     },
     "execution_count": 15,
     "metadata": {},
     "output_type": "execute_result"
    }
   ],
   "source": [
    "#Lista con fechas para predecir\n",
    "prueba = datetime.datetime.strptime(\"2022-01-01\", \"%Y-%m-%d\")\n",
    "fecha_predic = pd.date_range(prueba, periods=59)\n",
    "fecha_predic = pd.DataFrame(fecha_predic, columns=['fecha'])\n",
    "fecha_predic['fecha'] = fecha_predic['fecha'].dt.date\n",
    "\n",
    "fecha_predic = fecha_predic['fecha'].value_counts().sort_index()\n",
    "fecha_predic = fecha_predic.to_frame()\n",
    "fecha_predic = fecha_predic.rename(columns={'fecha':'count'})\n",
    "fecha_predic.index "
   ]
  },
  {
   "cell_type": "markdown",
   "id": "9b7b0b16-8309-445a-8bf8-3b1839a5af59",
   "metadata": {},
   "source": [
    "# Modelado de cantidad de viajes por dia"
   ]
  },
  {
   "cell_type": "markdown",
   "id": "23b07ab9-98b1-49b3-ab44-09da54abb970",
   "metadata": {},
   "source": [
    "Graficaremos el dataframe de cantidad de viajes por día para darnos uan idea de como son los datos"
   ]
  },
  {
   "cell_type": "code",
   "execution_count": 16,
   "id": "b0985f96-e2a9-41dd-8f98-d1180b478f02",
   "metadata": {},
   "outputs": [
    {
     "data": {
      "image/png": "[encoded data removed]",
      "text/plain": [
       "<Figure size 432x288 with 1 Axes>"
      ]
     },
     "metadata": {
      "needs_background": "light"
     },
     "output_type": "display_data"
    }
   ],
   "source": [
    "#Lineplot \n",
    "plt.plot(df2.index, df2['count'])\n",
    "plt.ylabel('Counts')\n",
    "plt.xlabel('Fecha')\n",
    "plt.xticks(['2021-01-01','2021-04-01','2021-08-01','2021-12-01'], rotation = 45)\n",
    "plt.title(\"Viajes por dia\")\n",
    "plt.show()"
   ]
  },
  {
   "cell_type": "markdown",
   "id": "2ec0c034-b456-4719-baf8-24ed402b7e64",
   "metadata": {},
   "source": [
    "Observamos que existe mucha dispersión en estos datos por lo que decidimos aplicar un método de suavizado usando convolución lineal y utilizando 20 medias móviles. Luego graficamos nuevamente los resultados obtenidos"
   ]
  },
  {
   "cell_type": "code",
   "execution_count": 17,
   "id": "33bc3287-7e96-49e2-8826-f687ef041e3f",
   "metadata": {},
   "outputs": [
    {
     "data": {
      "image/png": "[encoded data removed]",
      "text/plain": [
       "<Figure size 432x288 with 1 Axes>"
      ]
     },
     "metadata": {
      "needs_background": "light"
     },
     "output_type": "display_data"
    }
   ],
   "source": [
    "#Datos suavizados\n",
    "def smooth(y, promedios):\n",
    "    prom  = np.ones(promedios)/promedios\n",
    "    y_smooth = np.convolve(y, prom, mode='same')\n",
    "    return y_smooth\n",
    "\n",
    "count_suav = smooth(df2['count'], 20)\n",
    "\n",
    "#dataframe con datos suavizados\n",
    "df_suave = pd.DataFrame(count_suav, columns=['count'])\n",
    "\n",
    "#Lineplot \n",
    "plt.plot(df2.index, count_suav)\n",
    "plt.ylabel('Counts')\n",
    "plt.xlabel('Fecha')\n",
    "plt.xticks(['2021-01-01','2021-04-01','2021-08-01','2021-12-01'], rotation = 45)\n",
    "plt.title(\"Viajes por dia (suavizado)\")\n",
    "plt.show()"
   ]
  },
  {
   "cell_type": "markdown",
   "id": "5fabfc6b-60a1-46e6-8dec-37ea6bbbc681",
   "metadata": {},
   "source": [
    "Observamos que la gráfica tiene mucha menos dispersión. "
   ]
  },
  {
   "cell_type": "markdown",
   "id": "0b8ba22f-c1a7-424a-ae86-5ccaeb084c73",
   "metadata": {},
   "source": [
    "Para los datos de entrenamiento y prueba, se condideraron los siguientes rangos de fechas:\n",
    "<br>En el caso de Entrenamiento, desde el 01/01/2021 hasta el 01/11/2021, mientras que la prueba, abarcará el periodo restante del año 2021, es decir, desde el 01/11/2021 hasta el 31/12/2021.<br><br>\n",
    "Una vez separados ambos subsets se procedió a aplicar el mismo método de suavizado a los datos, luego se graficaron ambos"
   ]
  },
  {
   "cell_type": "code",
   "execution_count": 18,
   "id": "cabe22b9-f02a-4ed4-abcf-42d94121a4e9",
   "metadata": {},
   "outputs": [
    {
     "name": "stderr",
     "output_type": "stream",
     "text": [
      "C:\\Users\\mc_mo\\AppData\\Local\\Temp\\ipykernel_8840\\1101145936.py:6: SettingWithCopyWarning: \n",
      "A value is trying to be set on a copy of a slice from a DataFrame.\n",
      "Try using .loc[row_indexer,col_indexer] = value instead\n",
      "\n",
      "See the caveats in the documentation: https://pandas.pydata.org/pandas-docs/stable/user_guide/indexing.html#returning-a-view-versus-a-copy\n",
      "  test['count'] = smooth(test['count'], 20)\n",
      "C:\\Users\\mc_mo\\AppData\\Local\\Temp\\ipykernel_8840\\1101145936.py:7: SettingWithCopyWarning: \n",
      "A value is trying to be set on a copy of a slice from a DataFrame.\n",
      "Try using .loc[row_indexer,col_indexer] = value instead\n",
      "\n",
      "See the caveats in the documentation: https://pandas.pydata.org/pandas-docs/stable/user_guide/indexing.html#returning-a-view-versus-a-copy\n",
      "  train['count'] = smooth(train['count'], 20)\n"
     ]
    },
    {
     "data": {
      "image/png": "[encoded data removed]",
      "text/plain": [
       "<Figure size 432x288 with 1 Axes>"
      ]
     },
     "metadata": {
      "needs_background": "light"
     },
     "output_type": "display_data"
    }
   ],
   "source": [
    "#Entrenamiento y testeo\n",
    "train = df2[df2.index < \"2021-11-01\"]\n",
    "test = df2[df2.index >= \"2021-11-01\"]\n",
    "\n",
    "#Suavizado de testeo y entrenamiento\n",
    "test['count'] = smooth(test['count'], 20)\n",
    "train['count'] = smooth(train['count'], 20)\n",
    "\n",
    "#Gráfico de testeo y entrenamiento\n",
    "plt.plot(train, color = \"black\")\n",
    "plt.plot(test, color = \"Orange\")\n",
    "plt.ylabel('Counts')\n",
    "plt.xlabel('Fecha')\n",
    "plt.xticks(['2021-01-01','2021-04-01','2021-08-01','2021-12-01'], rotation = 45)\n",
    "plt.title(\"Train/Test\")\n",
    "plt.show()"
   ]
  },
  {
   "cell_type": "markdown",
   "id": "df724807-2d9e-4372-9626-eaa6065ed09b",
   "metadata": {},
   "source": [
    "## Modelo ARMA"
   ]
  },
  {
   "cell_type": "markdown",
   "id": "f8a3d949-2f80-4c26-807e-ca368574adc2",
   "metadata": {},
   "source": [
    "Comenzaremos evaluando el modelo ARMA, para esto se utilizó el subset \"train\" para entrenarlo y luego se realizó un dataframe utilizando un modelo discreto de regresión lineal con un intervalo de confianza del 95% para poder testear la predicción del modelo usando el subset \"test\". <br>\n",
    "Luego se graficaron los datos de testeo y entrenamiento junto con los predichos(color verde)."
   ]
  },
  {
   "cell_type": "code",
   "execution_count": 19,
   "id": "07ab1683-0d3f-43e4-ab50-56727e92752c",
   "metadata": {},
   "outputs": [
    {
     "name": "stderr",
     "output_type": "stream",
     "text": [
      "C:\\Users\\mc_mo\\anaconda3\\lib\\site-packages\\statsmodels\\tsa\\base\\tsa_model.py:471: ValueWarning: No frequency information was provided, so inferred frequency D will be used.\n",
      "  self._init_dates(dates, freq)\n",
      "C:\\Users\\mc_mo\\anaconda3\\lib\\site-packages\\statsmodels\\tsa\\base\\tsa_model.py:471: ValueWarning: No frequency information was provided, so inferred frequency D will be used.\n",
      "  self._init_dates(dates, freq)\n"
     ]
    },
    {
     "data": {
      "image/png": "[encoded data removed]",
      "text/plain": [
       "<Figure size 432x288 with 1 Axes>"
      ]
     },
     "metadata": {
      "needs_background": "light"
     },
     "output_type": "display_data"
    }
   ],
   "source": [
    "arma = SARIMAX(train)\n",
    "arma = arma.fit()\n",
    "\n",
    "arma_pred = arma.get_forecast(len(test.index))\n",
    "#Un 95% de confianza\n",
    "arma_pred_df = arma_pred.conf_int(alpha = 0.05) \n",
    "arma_pred_df[\"Prediccion\"] = arma.predict(start = arma_pred_df.index[0], end = arma_pred_df.index[-1])\n",
    "arma_pred_df.index = test.index\n",
    "arma_pred_out = arma_pred_df[\"Prediccion\"]\n",
    "\n",
    "#Gráficos\n",
    "plt.plot(train, color = \"black\")\n",
    "plt.plot(test, color = \"Orange\")\n",
    "plt.plot(arma_pred_out, color='green', label = 'Predictions')\n",
    "plt.ylabel('Counts')\n",
    "plt.xlabel('Fecha')\n",
    "plt.xticks(['2021-01-01','2021-04-01','2021-08-01','2021-12-01'], rotation = 45)\n",
    "plt.title(\"Train/Test\")\n",
    "plt.show()"
   ]
  },
  {
   "cell_type": "markdown",
   "id": "b43b9e50-2fac-4efe-b5ff-f8b8959a18bd",
   "metadata": {},
   "source": [
    "Calculamos el error cuadrático medio y obtenemos el resumen del modelo ya entrenado para poder comparar la factibilidad de su uso."
   ]
  },
  {
   "cell_type": "code",
   "execution_count": 20,
   "id": "39d9db3e-4fd6-4c70-95dd-a50b4fe7ad88",
   "metadata": {},
   "outputs": [
    {
     "name": "stdout",
     "output_type": "stream",
     "text": [
      "Error cuadrático medio:  13.233239223118419\n"
     ]
    },
    {
     "data": {
      "text/html": [
       "<table class=\"simpletable\">\n",
       "<caption>SARIMAX Results</caption>\n",
       "<tr>\n",
       "  <th>Dep. Variable:</th>         <td>count</td>      <th>  No. Observations:  </th>    <td>304</td>  \n",
       "</tr>\n",
       "<tr>\n",
       "  <th>Model:</th>           <td>SARIMAX(1, 0, 0)</td> <th>  Log Likelihood     </th> <td>-915.772</td>\n",
       "</tr>\n",
       "<tr>\n",
       "  <th>Date:</th>            <td>Tue, 18 Oct 2022</td> <th>  AIC                </th> <td>1835.544</td>\n",
       "</tr>\n",
       "<tr>\n",
       "  <th>Time:</th>                <td>23:16:01</td>     <th>  BIC                </th> <td>1842.978</td>\n",
       "</tr>\n",
       "<tr>\n",
       "  <th>Sample:</th>             <td>01-01-2021</td>    <th>  HQIC               </th> <td>1838.518</td>\n",
       "</tr>\n",
       "<tr>\n",
       "  <th></th>                   <td>- 10-31-2021</td>   <th>                     </th>     <td> </td>   \n",
       "</tr>\n",
       "<tr>\n",
       "  <th>Covariance Type:</th>        <td>opg</td>       <th>                     </th>     <td> </td>   \n",
       "</tr>\n",
       "</table>\n",
       "<table class=\"simpletable\">\n",
       "<tr>\n",
       "     <td></td>       <th>coef</th>     <th>std err</th>      <th>z</th>      <th>P>|z|</th>  <th>[0.025</th>    <th>0.975]</th>  \n",
       "</tr>\n",
       "<tr>\n",
       "  <th>ar.L1</th>  <td>    0.9982</td> <td>    0.002</td> <td>  622.757</td> <td> 0.000</td> <td>    0.995</td> <td>    1.001</td>\n",
       "</tr>\n",
       "<tr>\n",
       "  <th>sigma2</th> <td>   23.7694</td> <td>    1.262</td> <td>   18.839</td> <td> 0.000</td> <td>   21.296</td> <td>   26.242</td>\n",
       "</tr>\n",
       "</table>\n",
       "<table class=\"simpletable\">\n",
       "<tr>\n",
       "  <th>Ljung-Box (L1) (Q):</th>     <td>33.34</td> <th>  Jarque-Bera (JB):  </th> <td>95.93</td>\n",
       "</tr>\n",
       "<tr>\n",
       "  <th>Prob(Q):</th>                <td>0.00</td>  <th>  Prob(JB):          </th> <td>0.00</td> \n",
       "</tr>\n",
       "<tr>\n",
       "  <th>Heteroskedasticity (H):</th> <td>11.61</td> <th>  Skew:              </th> <td>0.26</td> \n",
       "</tr>\n",
       "<tr>\n",
       "  <th>Prob(H) (two-sided):</th>    <td>0.00</td>  <th>  Kurtosis:          </th> <td>5.70</td> \n",
       "</tr>\n",
       "</table><br/><br/>Warnings:<br/>[1] Covariance matrix calculated using the outer product of gradients (complex-step)."
      ],
      "text/plain": [
       "<class 'statsmodels.iolib.summary.Summary'>\n",
       "\"\"\"\n",
       "                               SARIMAX Results                                \n",
       "==============================================================================\n",
       "Dep. Variable:                  count   No. Observations:                  304\n",
       "Model:               SARIMAX(1, 0, 0)   Log Likelihood                -915.772\n",
       "Date:                Tue, 18 Oct 2022   AIC                           1835.544\n",
       "Time:                        23:16:01   BIC                           1842.978\n",
       "Sample:                    01-01-2021   HQIC                          1838.518\n",
       "                         - 10-31-2021                                         \n",
       "Covariance Type:                  opg                                         \n",
       "==============================================================================\n",
       "                 coef    std err          z      P>|z|      [0.025      0.975]\n",
       "------------------------------------------------------------------------------\n",
       "ar.L1          0.9982      0.002    622.757      0.000       0.995       1.001\n",
       "sigma2        23.7694      1.262     18.839      0.000      21.296      26.242\n",
       "===================================================================================\n",
       "Ljung-Box (L1) (Q):                  33.34   Jarque-Bera (JB):                95.93\n",
       "Prob(Q):                              0.00   Prob(JB):                         0.00\n",
       "Heteroskedasticity (H):              11.61   Skew:                             0.26\n",
       "Prob(H) (two-sided):                  0.00   Kurtosis:                         5.70\n",
       "===================================================================================\n",
       "\n",
       "Warnings:\n",
       "[1] Covariance matrix calculated using the outer product of gradients (complex-step).\n",
       "\"\"\""
      ]
     },
     "execution_count": 20,
     "metadata": {},
     "output_type": "execute_result"
    }
   ],
   "source": [
    "#Error cuadrático medio\n",
    "arma_error = np.sqrt(mean_squared_error(test[\"count\"].values, arma_pred_df[\"Prediccion\"]))\n",
    "print(\"Error cuadrático medio: \",arma_error)\n",
    "arma.summary()"
   ]
  },
  {
   "cell_type": "markdown",
   "id": "d4b16953-7f1d-4290-9c78-50aa2f64d764",
   "metadata": {},
   "source": [
    "## Modelo ARIMA"
   ]
  },
  {
   "cell_type": "markdown",
   "id": "04b5e02f-c833-44c2-9bb4-f1f03f8082a5",
   "metadata": {},
   "source": [
    "Primero utilizaremos autoARIMA, el cual nos entregará los valores óptimos para los parametros p, d y q del modelo ARIMA"
   ]
  },
  {
   "cell_type": "code",
   "execution_count": 21,
   "id": "b080ea24-45d9-46d5-91ae-ece1e2ba957b",
   "metadata": {},
   "outputs": [
    {
     "data": {
      "text/html": [
       "<table class=\"simpletable\">\n",
       "<caption>SARIMAX Results</caption>\n",
       "<tr>\n",
       "  <th>Dep. Variable:</th>           <td>y</td>        <th>  No. Observations:  </th>    <td>304</td>  \n",
       "</tr>\n",
       "<tr>\n",
       "  <th>Model:</th>           <td>SARIMAX(0, 2, 3)</td> <th>  Log Likelihood     </th> <td>-882.150</td>\n",
       "</tr>\n",
       "<tr>\n",
       "  <th>Date:</th>            <td>Tue, 18 Oct 2022</td> <th>  AIC                </th> <td>1772.300</td>\n",
       "</tr>\n",
       "<tr>\n",
       "  <th>Time:</th>                <td>23:16:03</td>     <th>  BIC                </th> <td>1787.142</td>\n",
       "</tr>\n",
       "<tr>\n",
       "  <th>Sample:</th>             <td>01-01-2021</td>    <th>  HQIC               </th> <td>1778.239</td>\n",
       "</tr>\n",
       "<tr>\n",
       "  <th></th>                   <td>- 10-31-2021</td>   <th>                     </th>     <td> </td>   \n",
       "</tr>\n",
       "<tr>\n",
       "  <th>Covariance Type:</th>        <td>opg</td>       <th>                     </th>     <td> </td>   \n",
       "</tr>\n",
       "</table>\n",
       "<table class=\"simpletable\">\n",
       "<tr>\n",
       "     <td></td>       <th>coef</th>     <th>std err</th>      <th>z</th>      <th>P>|z|</th>  <th>[0.025</th>    <th>0.975]</th>  \n",
       "</tr>\n",
       "<tr>\n",
       "  <th>ma.L1</th>  <td>   -0.6581</td> <td>    0.044</td> <td>  -14.847</td> <td> 0.000</td> <td>   -0.745</td> <td>   -0.571</td>\n",
       "</tr>\n",
       "<tr>\n",
       "  <th>ma.L2</th>  <td>   -0.3479</td> <td>    0.052</td> <td>   -6.687</td> <td> 0.000</td> <td>   -0.450</td> <td>   -0.246</td>\n",
       "</tr>\n",
       "<tr>\n",
       "  <th>ma.L3</th>  <td>    0.1357</td> <td>    0.047</td> <td>    2.914</td> <td> 0.004</td> <td>    0.044</td> <td>    0.227</td>\n",
       "</tr>\n",
       "<tr>\n",
       "  <th>sigma2</th> <td>   20.0729</td> <td>    1.148</td> <td>   17.487</td> <td> 0.000</td> <td>   17.823</td> <td>   22.323</td>\n",
       "</tr>\n",
       "</table>\n",
       "<table class=\"simpletable\">\n",
       "<tr>\n",
       "  <th>Ljung-Box (L1) (Q):</th>     <td>0.02</td>  <th>  Jarque-Bera (JB):  </th> <td>55.92</td>\n",
       "</tr>\n",
       "<tr>\n",
       "  <th>Prob(Q):</th>                <td>0.90</td>  <th>  Prob(JB):          </th> <td>0.00</td> \n",
       "</tr>\n",
       "<tr>\n",
       "  <th>Heteroskedasticity (H):</th> <td>10.49</td> <th>  Skew:              </th> <td>0.10</td> \n",
       "</tr>\n",
       "<tr>\n",
       "  <th>Prob(H) (two-sided):</th>    <td>0.00</td>  <th>  Kurtosis:          </th> <td>5.10</td> \n",
       "</tr>\n",
       "</table><br/><br/>Warnings:<br/>[1] Covariance matrix calculated using the outer product of gradients (complex-step)."
      ],
      "text/plain": [
       "<class 'statsmodels.iolib.summary.Summary'>\n",
       "\"\"\"\n",
       "                               SARIMAX Results                                \n",
       "==============================================================================\n",
       "Dep. Variable:                      y   No. Observations:                  304\n",
       "Model:               SARIMAX(0, 2, 3)   Log Likelihood                -882.150\n",
       "Date:                Tue, 18 Oct 2022   AIC                           1772.300\n",
       "Time:                        23:16:03   BIC                           1787.142\n",
       "Sample:                    01-01-2021   HQIC                          1778.239\n",
       "                         - 10-31-2021                                         \n",
       "Covariance Type:                  opg                                         \n",
       "==============================================================================\n",
       "                 coef    std err          z      P>|z|      [0.025      0.975]\n",
       "------------------------------------------------------------------------------\n",
       "ma.L1         -0.6581      0.044    -14.847      0.000      -0.745      -0.571\n",
       "ma.L2         -0.3479      0.052     -6.687      0.000      -0.450      -0.246\n",
       "ma.L3          0.1357      0.047      2.914      0.004       0.044       0.227\n",
       "sigma2        20.0729      1.148     17.487      0.000      17.823      22.323\n",
       "===================================================================================\n",
       "Ljung-Box (L1) (Q):                   0.02   Jarque-Bera (JB):                55.92\n",
       "Prob(Q):                              0.90   Prob(JB):                         0.00\n",
       "Heteroskedasticity (H):              10.49   Skew:                             0.10\n",
       "Prob(H) (two-sided):                  0.00   Kurtosis:                         5.10\n",
       "===================================================================================\n",
       "\n",
       "Warnings:\n",
       "[1] Covariance matrix calculated using the outer product of gradients (complex-step).\n",
       "\"\"\""
      ]
     },
     "execution_count": 21,
     "metadata": {},
     "output_type": "execute_result"
    }
   ],
   "source": [
    "#Usaremos primero AutoARIMA\n",
    "autoarima = auto_arima(train, start_P=0, start_Q=0)\n",
    "autoarima.summary()"
   ]
  },
  {
   "cell_type": "markdown",
   "id": "86f995ee-34db-44a3-93dd-faab0aae5c9a",
   "metadata": {},
   "source": [
    "Observamos que nos entrega los valores (0,2,3) para p, d y q respectivamente, por lo que que entrenó el modelo ARIMA usando estos parámetros y siguiendo el procedimiento igual que en el modelo ARMA ya explicado."
   ]
  },
  {
   "cell_type": "code",
   "execution_count": 22,
   "id": "baf44029-775f-4cff-8eaf-d0a8d0b96f5d",
   "metadata": {},
   "outputs": [
    {
     "name": "stderr",
     "output_type": "stream",
     "text": [
      "C:\\Users\\mc_mo\\anaconda3\\lib\\site-packages\\statsmodels\\tsa\\base\\tsa_model.py:471: ValueWarning: No frequency information was provided, so inferred frequency D will be used.\n",
      "  self._init_dates(dates, freq)\n",
      "C:\\Users\\mc_mo\\anaconda3\\lib\\site-packages\\statsmodels\\tsa\\base\\tsa_model.py:471: ValueWarning: No frequency information was provided, so inferred frequency D will be used.\n",
      "  self._init_dates(dates, freq)\n",
      "C:\\Users\\mc_mo\\anaconda3\\lib\\site-packages\\statsmodels\\tsa\\base\\tsa_model.py:471: ValueWarning: No frequency information was provided, so inferred frequency D will be used.\n",
      "  self._init_dates(dates, freq)\n"
     ]
    },
    {
     "data": {
      "image/png": "[encoded data removed]",
      "text/plain": [
       "<Figure size 432x288 with 1 Axes>"
      ]
     },
     "metadata": {
      "needs_background": "light"
     },
     "output_type": "display_data"
    }
   ],
   "source": [
    "arima = ARIMA(train,order = (0, 2, 3))\n",
    "arima = arima.fit()\n",
    "\n",
    "arima_pred = arima.get_forecast(len(test.index))\n",
    "#Un 95% de confianza\n",
    "arima_pred_df = arima_pred.conf_int(alpha = 0.05) \n",
    "arima_pred_df[\"Prediccion\"] = arima.predict(start = arima_pred_df.index[0], end = arima_pred_df.index[-1])\n",
    "arima_pred_df.index = test.index\n",
    "arima_pred_out = arima_pred_df[\"Prediccion\"] \n",
    " \n",
    "    \n",
    "plt.plot(train, color = \"black\")\n",
    "plt.plot(test, color = \"Orange\")\n",
    "plt.plot(arima_pred_out, color='green', label = 'Predictions')\n",
    "plt.ylabel('Counts')\n",
    "plt.xlabel('Fecha')\n",
    "plt.xticks(['2021-01-01','2021-04-01','2021-08-01','2021-12-01'], rotation = 45)\n",
    "plt.title(\"Train/Test\")\n",
    "plt.show()"
   ]
  },
  {
   "cell_type": "code",
   "execution_count": 23,
   "id": "94b6bd6d-b5fe-452e-8921-fb9f797f9b42",
   "metadata": {},
   "outputs": [
    {
     "name": "stdout",
     "output_type": "stream",
     "text": [
      "Error cuadratico medio:  150.40021836894522\n"
     ]
    },
    {
     "data": {
      "text/html": [
       "<table class=\"simpletable\">\n",
       "<caption>SARIMAX Results</caption>\n",
       "<tr>\n",
       "  <th>Dep. Variable:</th>         <td>count</td>      <th>  No. Observations:  </th>    <td>304</td>  \n",
       "</tr>\n",
       "<tr>\n",
       "  <th>Model:</th>            <td>ARIMA(0, 2, 3)</td>  <th>  Log Likelihood     </th> <td>-882.150</td>\n",
       "</tr>\n",
       "<tr>\n",
       "  <th>Date:</th>            <td>Tue, 18 Oct 2022</td> <th>  AIC                </th> <td>1772.300</td>\n",
       "</tr>\n",
       "<tr>\n",
       "  <th>Time:</th>                <td>23:16:03</td>     <th>  BIC                </th> <td>1787.142</td>\n",
       "</tr>\n",
       "<tr>\n",
       "  <th>Sample:</th>             <td>01-01-2021</td>    <th>  HQIC               </th> <td>1778.239</td>\n",
       "</tr>\n",
       "<tr>\n",
       "  <th></th>                   <td>- 10-31-2021</td>   <th>                     </th>     <td> </td>   \n",
       "</tr>\n",
       "<tr>\n",
       "  <th>Covariance Type:</th>        <td>opg</td>       <th>                     </th>     <td> </td>   \n",
       "</tr>\n",
       "</table>\n",
       "<table class=\"simpletable\">\n",
       "<tr>\n",
       "     <td></td>       <th>coef</th>     <th>std err</th>      <th>z</th>      <th>P>|z|</th>  <th>[0.025</th>    <th>0.975]</th>  \n",
       "</tr>\n",
       "<tr>\n",
       "  <th>ma.L1</th>  <td>   -0.6581</td> <td>    0.044</td> <td>  -14.847</td> <td> 0.000</td> <td>   -0.745</td> <td>   -0.571</td>\n",
       "</tr>\n",
       "<tr>\n",
       "  <th>ma.L2</th>  <td>   -0.3479</td> <td>    0.052</td> <td>   -6.687</td> <td> 0.000</td> <td>   -0.450</td> <td>   -0.246</td>\n",
       "</tr>\n",
       "<tr>\n",
       "  <th>ma.L3</th>  <td>    0.1357</td> <td>    0.047</td> <td>    2.914</td> <td> 0.004</td> <td>    0.044</td> <td>    0.227</td>\n",
       "</tr>\n",
       "<tr>\n",
       "  <th>sigma2</th> <td>   20.0729</td> <td>    1.148</td> <td>   17.487</td> <td> 0.000</td> <td>   17.823</td> <td>   22.323</td>\n",
       "</tr>\n",
       "</table>\n",
       "<table class=\"simpletable\">\n",
       "<tr>\n",
       "  <th>Ljung-Box (L1) (Q):</th>     <td>0.02</td>  <th>  Jarque-Bera (JB):  </th> <td>55.92</td>\n",
       "</tr>\n",
       "<tr>\n",
       "  <th>Prob(Q):</th>                <td>0.90</td>  <th>  Prob(JB):          </th> <td>0.00</td> \n",
       "</tr>\n",
       "<tr>\n",
       "  <th>Heteroskedasticity (H):</th> <td>10.49</td> <th>  Skew:              </th> <td>0.10</td> \n",
       "</tr>\n",
       "<tr>\n",
       "  <th>Prob(H) (two-sided):</th>    <td>0.00</td>  <th>  Kurtosis:          </th> <td>5.10</td> \n",
       "</tr>\n",
       "</table><br/><br/>Warnings:<br/>[1] Covariance matrix calculated using the outer product of gradients (complex-step)."
      ],
      "text/plain": [
       "<class 'statsmodels.iolib.summary.Summary'>\n",
       "\"\"\"\n",
       "                               SARIMAX Results                                \n",
       "==============================================================================\n",
       "Dep. Variable:                  count   No. Observations:                  304\n",
       "Model:                 ARIMA(0, 2, 3)   Log Likelihood                -882.150\n",
       "Date:                Tue, 18 Oct 2022   AIC                           1772.300\n",
       "Time:                        23:16:03   BIC                           1787.142\n",
       "Sample:                    01-01-2021   HQIC                          1778.239\n",
       "                         - 10-31-2021                                         \n",
       "Covariance Type:                  opg                                         \n",
       "==============================================================================\n",
       "                 coef    std err          z      P>|z|      [0.025      0.975]\n",
       "------------------------------------------------------------------------------\n",
       "ma.L1         -0.6581      0.044    -14.847      0.000      -0.745      -0.571\n",
       "ma.L2         -0.3479      0.052     -6.687      0.000      -0.450      -0.246\n",
       "ma.L3          0.1357      0.047      2.914      0.004       0.044       0.227\n",
       "sigma2        20.0729      1.148     17.487      0.000      17.823      22.323\n",
       "===================================================================================\n",
       "Ljung-Box (L1) (Q):                   0.02   Jarque-Bera (JB):                55.92\n",
       "Prob(Q):                              0.90   Prob(JB):                         0.00\n",
       "Heteroskedasticity (H):              10.49   Skew:                             0.10\n",
       "Prob(H) (two-sided):                  0.00   Kurtosis:                         5.10\n",
       "===================================================================================\n",
       "\n",
       "Warnings:\n",
       "[1] Covariance matrix calculated using the outer product of gradients (complex-step).\n",
       "\"\"\""
      ]
     },
     "execution_count": 23,
     "metadata": {},
     "output_type": "execute_result"
    }
   ],
   "source": [
    "#Error cuadrático medio\n",
    "arima_error = np.sqrt(mean_squared_error(test[\"count\"].values, arima_pred_df[\"Prediccion\"]))\n",
    "print(\"Error cuadratico medio: \",arima_error)\n",
    "arima.summary()"
   ]
  },
  {
   "cell_type": "markdown",
   "id": "46b87afa-369d-41c4-85b6-dfd0501c477e",
   "metadata": {},
   "source": [
    "Observamos que el error cuadrático medio y los valores para el módelo ARIMA(AIC=1772.300, BIC=1787.142, ECM= 150.4) son mucho mayores que los del módelo ARMA (AIC=1772.300, BIC=1787.142, ECM=13.2) por lo que optamos por predecir usando este último."
   ]
  },
  {
   "cell_type": "markdown",
   "id": "d6dfff72-57ff-47c1-a7ff-c45ac5087c4b",
   "metadata": {},
   "source": [
    "# Prediccion usando ARMA"
   ]
  },
  {
   "cell_type": "markdown",
   "id": "5d687a2a-9d8a-42d8-856a-e184671e2fb0",
   "metadata": {},
   "source": [
    "Usaremos nuestro dataframe anteriormente creado con las fechas llamado \"fecha_predic\" para aplicarlo a nuestro modelo y predecir los valores."
   ]
  },
  {
   "cell_type": "code",
   "execution_count": 24,
   "id": "de6a72fa-116a-48b8-ac38-080cd6781a9b",
   "metadata": {},
   "outputs": [],
   "source": [
    "#Predicción\n",
    "arma_pred = arma.get_forecast(len(fecha_predic.index))\n",
    "#Un 95% de confianza\n",
    "arma_pred_df = arma_pred.conf_int(alpha = 0.05) \n",
    "arma_pred_df[\"Prediccion\"] = arma.predict(start = arma_pred_df.index[0], end = arma_pred_df.index[-1])\n",
    "arma_pred_df.index = fecha_predic.index"
   ]
  },
  {
   "cell_type": "code",
   "execution_count": 25,
   "id": "149b761e-be99-4750-85cf-f81e687dc20e",
   "metadata": {},
   "outputs": [
    {
     "data": {
      "text/plain": [
       "37.0257140024825"
      ]
     },
     "execution_count": 25,
     "metadata": {},
     "output_type": "execute_result"
    }
   ],
   "source": [
    "#Resultado promedio de la prediccion\n",
    "arma_pred_df['Prediccion'].mean()"
   ]
  },
  {
   "cell_type": "markdown",
   "id": "2746d649-d75b-414d-8ffc-a4682fb1261b",
   "metadata": {
    "tags": []
   },
   "source": [
    "# Modelado de tiempo de viaje por día "
   ]
  },
  {
   "cell_type": "code",
   "execution_count": 26,
   "id": "2e6f41f5-c2e5-4715-99d2-a6e64a482623",
   "metadata": {},
   "outputs": [
    {
     "data": {
      "text/html": [
       "<div>\n",
       "<style scoped>\n",
       "    .dataframe tbody tr th:only-of-type {\n",
       "        vertical-align: middle;\n",
       "    }\n",
       "\n",
       "    .dataframe tbody tr th {\n",
       "        vertical-align: top;\n",
       "    }\n",
       "\n",
       "    .dataframe thead th {\n",
       "        text-align: right;\n",
       "    }\n",
       "</style>\n",
       "<table border=\"1\" class=\"dataframe\">\n",
       "  <thead>\n",
       "    <tr style=\"text-align: right;\">\n",
       "      <th></th>\n",
       "      <th>Trip  Duration</th>\n",
       "    </tr>\n",
       "    <tr>\n",
       "      <th>fecha</th>\n",
       "      <th></th>\n",
       "    </tr>\n",
       "  </thead>\n",
       "  <tbody>\n",
       "    <tr>\n",
       "      <th>2021-01-01</th>\n",
       "      <td>1350.500000</td>\n",
       "    </tr>\n",
       "    <tr>\n",
       "      <th>2021-01-02</th>\n",
       "      <td>958.142857</td>\n",
       "    </tr>\n",
       "    <tr>\n",
       "      <th>2021-01-03</th>\n",
       "      <td>883.750000</td>\n",
       "    </tr>\n",
       "    <tr>\n",
       "      <th>2021-01-04</th>\n",
       "      <td>1072.857143</td>\n",
       "    </tr>\n",
       "    <tr>\n",
       "      <th>2021-01-05</th>\n",
       "      <td>1252.333333</td>\n",
       "    </tr>\n",
       "    <tr>\n",
       "      <th>...</th>\n",
       "      <td>...</td>\n",
       "    </tr>\n",
       "    <tr>\n",
       "      <th>2021-12-27</th>\n",
       "      <td>864.545455</td>\n",
       "    </tr>\n",
       "    <tr>\n",
       "      <th>2021-12-28</th>\n",
       "      <td>786.550000</td>\n",
       "    </tr>\n",
       "    <tr>\n",
       "      <th>2021-12-29</th>\n",
       "      <td>824.500000</td>\n",
       "    </tr>\n",
       "    <tr>\n",
       "      <th>2021-12-30</th>\n",
       "      <td>615.300000</td>\n",
       "    </tr>\n",
       "    <tr>\n",
       "      <th>2021-12-31</th>\n",
       "      <td>1077.354839</td>\n",
       "    </tr>\n",
       "  </tbody>\n",
       "</table>\n",
       "<p>365 rows × 1 columns</p>\n",
       "</div>"
      ],
      "text/plain": [
       "            Trip  Duration\n",
       "fecha                     \n",
       "2021-01-01     1350.500000\n",
       "2021-01-02      958.142857\n",
       "2021-01-03      883.750000\n",
       "2021-01-04     1072.857143\n",
       "2021-01-05     1252.333333\n",
       "...                    ...\n",
       "2021-12-27      864.545455\n",
       "2021-12-28      786.550000\n",
       "2021-12-29      824.500000\n",
       "2021-12-30      615.300000\n",
       "2021-12-31     1077.354839\n",
       "\n",
       "[365 rows x 1 columns]"
      ]
     },
     "execution_count": 26,
     "metadata": {},
     "output_type": "execute_result"
    }
   ],
   "source": [
    "means.pop('hora')\n",
    "means.pop('mes')\n",
    "means.pop('dia')\n",
    "means.set_index('fecha', inplace=True)\n",
    "means"
   ]
  },
  {
   "cell_type": "code",
   "execution_count": 27,
   "id": "60c1236e-3bca-40df-b282-9f0a3ad4204e",
   "metadata": {},
   "outputs": [
    {
     "data": {
      "image/png": "[encoded data removed]",
      "text/plain": [
       "<Figure size 432x288 with 1 Axes>"
      ]
     },
     "metadata": {
      "needs_background": "light"
     },
     "output_type": "display_data"
    }
   ],
   "source": [
    "#Gráfico de línea Duración vs Día\n",
    "\n",
    "plt.plot(means.index, means['Trip  Duration'])\n",
    "plt.ylabel('Duración')\n",
    "plt.xlabel('Fecha')\n",
    "plt.xticks(['2021-01-01','2021-04-01','2021-08-01','2021-12-01'])\n",
    "plt.title(\"Tiempo de viaje por día\")\n",
    "plt.show()"
   ]
  },
  {
   "cell_type": "markdown",
   "id": "9e282dc3",
   "metadata": {},
   "source": [
    "Se aplica una transformación para obtener la primera diferencia del Dataset en estudio."
   ]
  },
  {
   "cell_type": "code",
   "execution_count": 28,
   "id": "36aec080-edc2-49e1-88a9-adeacaad2e5c",
   "metadata": {},
   "outputs": [
    {
     "data": {
      "text/plain": [
       "fecha\n",
       "2021-01-01           NaN\n",
       "2021-01-02   -392.357143\n",
       "2021-01-03    -74.392857\n",
       "2021-01-04    189.107143\n",
       "2021-01-05    179.476190\n",
       "                 ...    \n",
       "2021-12-27   -170.978355\n",
       "2021-12-28    -77.995455\n",
       "2021-12-29     37.950000\n",
       "2021-12-30   -209.200000\n",
       "2021-12-31    462.054839\n",
       "Name: Trip  Duration, Length: 365, dtype: float64"
      ]
     },
     "execution_count": 28,
     "metadata": {},
     "output_type": "execute_result"
    }
   ],
   "source": [
    "coso = means['Trip  Duration'].diff()\n",
    "coso"
   ]
  },
  {
   "cell_type": "code",
   "execution_count": 29,
   "id": "24f994c9-2ae7-4065-82fe-9e0e16cf76a8",
   "metadata": {
    "tags": []
   },
   "outputs": [
    {
     "data": {
      "image/png": "[encoded data removed]",
      "text/plain": [
       "<Figure size 432x288 with 1 Axes>"
      ]
     },
     "metadata": {
      "needs_background": "light"
     },
     "output_type": "display_data"
    }
   ],
   "source": [
    "plt.plot(coso)\n",
    "plt.show()"
   ]
  },
  {
   "cell_type": "markdown",
   "id": "81af02da-ddb3-4995-bdf8-0c54e0329606",
   "metadata": {},
   "source": [
    "Crearemos 2 nuevos subsets de entrenamiento y testeo usando el dataframe con los promedios por día ya calculados"
   ]
  },
  {
   "cell_type": "code",
   "execution_count": 30,
   "id": "22908b3e-feec-48b0-9817-bfb15711c049",
   "metadata": {
    "tags": []
   },
   "outputs": [
    {
     "data": {
      "image/png": "[encoded data removed]",
      "text/plain": [
       "<Figure size 432x288 with 1 Axes>"
      ]
     },
     "metadata": {
      "needs_background": "light"
     },
     "output_type": "display_data"
    }
   ],
   "source": [
    "#Entrenamiento y testeo\n",
    "train2 = means[means.index < \"2021-11-01\"]\n",
    "test2 = means[means.index > \"2021-11-01\"]\n",
    "\n",
    "#Gráfico de testeo y entrenamiento\n",
    "plt.plot(train2, color = \"black\")\n",
    "plt.plot(test2, color = \"Orange\")\n",
    "plt.ylabel('Duracion')\n",
    "plt.xlabel('Fecha')\n",
    "plt.xticks(['2021-01-01','2021-04-01','2021-08-01','2021-12-01'])\n",
    "plt.title(\"Train/Test\")\n",
    "plt.show()"
   ]
  },
  {
   "cell_type": "markdown",
   "id": "343eccbe-4dda-48b1-bf8b-e1b1301d8699",
   "metadata": {
    "tags": []
   },
   "source": [
    "## Modelo ARMA\n"
   ]
  },
  {
   "cell_type": "markdown",
   "id": "ac228fe1-12fe-4380-9d2d-fe6e9c29586a",
   "metadata": {},
   "source": [
    "El procedimiento para entrenamiento de los módelos es el mismo que ya realizamos, solo que utilizando el nuevo dataframe con datos  de el tiempo medio."
   ]
  },
  {
   "cell_type": "code",
   "execution_count": 31,
   "id": "81f4fe9d-f211-4919-8920-1d2dc401a260",
   "metadata": {},
   "outputs": [
    {
     "name": "stderr",
     "output_type": "stream",
     "text": [
      "C:\\Users\\mc_mo\\anaconda3\\lib\\site-packages\\statsmodels\\tsa\\base\\tsa_model.py:471: ValueWarning: No frequency information was provided, so inferred frequency D will be used.\n",
      "  self._init_dates(dates, freq)\n",
      "C:\\Users\\mc_mo\\anaconda3\\lib\\site-packages\\statsmodels\\tsa\\base\\tsa_model.py:471: ValueWarning: No frequency information was provided, so inferred frequency D will be used.\n",
      "  self._init_dates(dates, freq)\n"
     ]
    },
    {
     "data": {
      "image/png": "[encoded data removed]",
      "text/plain": [
       "<Figure size 432x288 with 1 Axes>"
      ]
     },
     "metadata": {
      "needs_background": "light"
     },
     "output_type": "display_data"
    }
   ],
   "source": [
    "arma = SARIMAX(train2)\n",
    "arma = arma.fit()\n",
    "\n",
    "arma_pred = arma.get_forecast(len(test2.index))\n",
    "#Un 95% de confianza\n",
    "arma_pred_df = arma_pred.conf_int(alpha = 0.05) \n",
    "arma_pred_df[\"Prediccion\"] = arma.predict(start = arma_pred_df.index[0], end = arma_pred_df.index[-1])\n",
    "arma_pred_df.index = test2.index\n",
    "arma_pred_out = arma_pred_df[\"Prediccion\"]\n",
    "\n",
    "#Gráficos sobrepuestos\n",
    "plt.plot(train2, color = \"black\")\n",
    "plt.plot(test2, color = \"Orange\")\n",
    "plt.plot(arma_pred_out, color='green', label = 'Predictions')\n",
    "plt.ylabel('duration')\n",
    "plt.xlabel('Fecha')\n",
    "plt.xticks(['2021-01-01','2021-04-01','2021-08-01','2021-12-01'], rotation = 45)\n",
    "plt.title(\"Train/Test\")\n",
    "plt.show()"
   ]
  },
  {
   "cell_type": "code",
   "execution_count": 32,
   "id": "8bb39285-9add-48d2-837b-e740a05020d0",
   "metadata": {},
   "outputs": [
    {
     "name": "stdout",
     "output_type": "stream",
     "text": [
      "Error cuadratico medio:  882.5037728364435\n"
     ]
    },
    {
     "data": {
      "text/html": [
       "<table class=\"simpletable\">\n",
       "<caption>SARIMAX Results</caption>\n",
       "<tr>\n",
       "  <th>Dep. Variable:</th>    <td>Trip  Duration</td>  <th>  No. Observations:  </th>    <td>304</td>   \n",
       "</tr>\n",
       "<tr>\n",
       "  <th>Model:</th>           <td>SARIMAX(1, 0, 0)</td> <th>  Log Likelihood     </th> <td>-2335.898</td>\n",
       "</tr>\n",
       "<tr>\n",
       "  <th>Date:</th>            <td>Tue, 18 Oct 2022</td> <th>  AIC                </th> <td>4675.796</td> \n",
       "</tr>\n",
       "<tr>\n",
       "  <th>Time:</th>                <td>23:16:09</td>     <th>  BIC                </th> <td>4683.230</td> \n",
       "</tr>\n",
       "<tr>\n",
       "  <th>Sample:</th>             <td>01-01-2021</td>    <th>  HQIC               </th> <td>4678.770</td> \n",
       "</tr>\n",
       "<tr>\n",
       "  <th></th>                   <td>- 10-31-2021</td>   <th>                     </th>     <td> </td>    \n",
       "</tr>\n",
       "<tr>\n",
       "  <th>Covariance Type:</th>        <td>opg</td>       <th>                     </th>     <td> </td>    \n",
       "</tr>\n",
       "</table>\n",
       "<table class=\"simpletable\">\n",
       "<tr>\n",
       "     <td></td>       <th>coef</th>     <th>std err</th>      <th>z</th>      <th>P>|z|</th>  <th>[0.025</th>    <th>0.975]</th>  \n",
       "</tr>\n",
       "<tr>\n",
       "  <th>ar.L1</th>  <td>    0.9121</td> <td>    0.017</td> <td>   53.030</td> <td> 0.000</td> <td>    0.878</td> <td>    0.946</td>\n",
       "</tr>\n",
       "<tr>\n",
       "  <th>sigma2</th> <td> 2.748e+05</td> <td> 1.27e+04</td> <td>   21.552</td> <td> 0.000</td> <td>  2.5e+05</td> <td>    3e+05</td>\n",
       "</tr>\n",
       "</table>\n",
       "<table class=\"simpletable\">\n",
       "<tr>\n",
       "  <th>Ljung-Box (L1) (Q):</th>     <td>71.08</td> <th>  Jarque-Bera (JB):  </th> <td>260.56</td>\n",
       "</tr>\n",
       "<tr>\n",
       "  <th>Prob(Q):</th>                <td>0.00</td>  <th>  Prob(JB):          </th>  <td>0.00</td> \n",
       "</tr>\n",
       "<tr>\n",
       "  <th>Heteroskedasticity (H):</th> <td>1.40</td>  <th>  Skew:              </th>  <td>0.12</td> \n",
       "</tr>\n",
       "<tr>\n",
       "  <th>Prob(H) (two-sided):</th>    <td>0.09</td>  <th>  Kurtosis:          </th>  <td>7.53</td> \n",
       "</tr>\n",
       "</table><br/><br/>Warnings:<br/>[1] Covariance matrix calculated using the outer product of gradients (complex-step)."
      ],
      "text/plain": [
       "<class 'statsmodels.iolib.summary.Summary'>\n",
       "\"\"\"\n",
       "                               SARIMAX Results                                \n",
       "==============================================================================\n",
       "Dep. Variable:         Trip  Duration   No. Observations:                  304\n",
       "Model:               SARIMAX(1, 0, 0)   Log Likelihood               -2335.898\n",
       "Date:                Tue, 18 Oct 2022   AIC                           4675.796\n",
       "Time:                        23:16:09   BIC                           4683.230\n",
       "Sample:                    01-01-2021   HQIC                          4678.770\n",
       "                         - 10-31-2021                                         \n",
       "Covariance Type:                  opg                                         \n",
       "==============================================================================\n",
       "                 coef    std err          z      P>|z|      [0.025      0.975]\n",
       "------------------------------------------------------------------------------\n",
       "ar.L1          0.9121      0.017     53.030      0.000       0.878       0.946\n",
       "sigma2      2.748e+05   1.27e+04     21.552      0.000     2.5e+05       3e+05\n",
       "===================================================================================\n",
       "Ljung-Box (L1) (Q):                  71.08   Jarque-Bera (JB):               260.56\n",
       "Prob(Q):                              0.00   Prob(JB):                         0.00\n",
       "Heteroskedasticity (H):               1.40   Skew:                             0.12\n",
       "Prob(H) (two-sided):                  0.09   Kurtosis:                         7.53\n",
       "===================================================================================\n",
       "\n",
       "Warnings:\n",
       "[1] Covariance matrix calculated using the outer product of gradients (complex-step).\n",
       "\"\"\""
      ]
     },
     "execution_count": 32,
     "metadata": {},
     "output_type": "execute_result"
    }
   ],
   "source": [
    "#Error cuadrático medio\n",
    "arma_error = np.sqrt(mean_squared_error(test2[\"Trip  Duration\"].values, arma_pred_df[\"Prediccion\"]))\n",
    "print(\"Error cuadratico medio: \",arma_error)\n",
    "arma.summary()"
   ]
  },
  {
   "cell_type": "markdown",
   "id": "a542eb12-a2b6-4ba5-b921-f67f44cdafaf",
   "metadata": {},
   "source": [
    "## Modelo ARIMA"
   ]
  },
  {
   "cell_type": "markdown",
   "id": "ffe8cf9d-91fc-412d-a017-27a638d72a60",
   "metadata": {},
   "source": [
    "Para este modelo se decidió no realizar autoARIMA y ajustar los parametros p,d y q de forma directa optando finalmente por (1,2,1)"
   ]
  },
  {
   "cell_type": "code",
   "execution_count": 33,
   "id": "74df2a63-18ee-42f2-81c0-c37edf57c918",
   "metadata": {},
   "outputs": [
    {
     "name": "stderr",
     "output_type": "stream",
     "text": [
      "C:\\Users\\mc_mo\\anaconda3\\lib\\site-packages\\statsmodels\\tsa\\base\\tsa_model.py:471: ValueWarning: No frequency information was provided, so inferred frequency D will be used.\n",
      "  self._init_dates(dates, freq)\n",
      "C:\\Users\\mc_mo\\anaconda3\\lib\\site-packages\\statsmodels\\tsa\\base\\tsa_model.py:471: ValueWarning: No frequency information was provided, so inferred frequency D will be used.\n",
      "  self._init_dates(dates, freq)\n",
      "C:\\Users\\mc_mo\\anaconda3\\lib\\site-packages\\statsmodels\\tsa\\base\\tsa_model.py:471: ValueWarning: No frequency information was provided, so inferred frequency D will be used.\n",
      "  self._init_dates(dates, freq)\n"
     ]
    },
    {
     "data": {
      "image/png": "[encoded data removed]",
      "text/plain": [
       "<Figure size 432x288 with 1 Axes>"
      ]
     },
     "metadata": {
      "needs_background": "light"
     },
     "output_type": "display_data"
    }
   ],
   "source": [
    "arima = ARIMA(train2,order = (1, 2, 1))\n",
    "arima = arima.fit()\n",
    "\n",
    "arima_pred = arima.get_forecast(len(test2.index))\n",
    "#Un 95% de confianza\n",
    "arima_pred_df = arima_pred.conf_int(alpha = 0.05) \n",
    "arima_pred_df[\"Prediccion\"] = arima.predict(start = arima_pred_df.index[0], end = arima_pred_df.index[-1])\n",
    "arima_pred_df.index = test2.index\n",
    "arima_pred_out = arima_pred_df[\"Prediccion\"] \n",
    " \n",
    "    \n",
    "plt.plot(train2, color = \"black\")\n",
    "plt.plot(test2, color = \"Orange\")\n",
    "plt.plot(arima_pred_out, color='green', label = 'Predictions')\n",
    "plt.ylabel('duration')\n",
    "plt.xlabel('Fecha')\n",
    "plt.xticks(['2021-01-01','2021-04-01','2021-08-01','2021-12-01'], rotation = 45)\n",
    "plt.title(\"Train/Test\")\n",
    "plt.show()"
   ]
  },
  {
   "cell_type": "code",
   "execution_count": 34,
   "id": "899f234d-043e-4edb-a55a-311710251460",
   "metadata": {},
   "outputs": [
    {
     "name": "stdout",
     "output_type": "stream",
     "text": [
      "Error cuadratico medio:  524.7046581415658\n"
     ]
    },
    {
     "data": {
      "text/html": [
       "<table class=\"simpletable\">\n",
       "<caption>SARIMAX Results</caption>\n",
       "<tr>\n",
       "  <th>Dep. Variable:</th>    <td>Trip  Duration</td>  <th>  No. Observations:  </th>    <td>304</td>   \n",
       "</tr>\n",
       "<tr>\n",
       "  <th>Model:</th>            <td>ARIMA(1, 2, 1)</td>  <th>  Log Likelihood     </th> <td>-2289.364</td>\n",
       "</tr>\n",
       "<tr>\n",
       "  <th>Date:</th>            <td>Tue, 18 Oct 2022</td> <th>  AIC                </th> <td>4584.728</td> \n",
       "</tr>\n",
       "<tr>\n",
       "  <th>Time:</th>                <td>23:16:09</td>     <th>  BIC                </th> <td>4595.859</td> \n",
       "</tr>\n",
       "<tr>\n",
       "  <th>Sample:</th>             <td>01-01-2021</td>    <th>  HQIC               </th> <td>4589.182</td> \n",
       "</tr>\n",
       "<tr>\n",
       "  <th></th>                   <td>- 10-31-2021</td>   <th>                     </th>     <td> </td>    \n",
       "</tr>\n",
       "<tr>\n",
       "  <th>Covariance Type:</th>        <td>opg</td>       <th>                     </th>     <td> </td>    \n",
       "</tr>\n",
       "</table>\n",
       "<table class=\"simpletable\">\n",
       "<tr>\n",
       "     <td></td>       <th>coef</th>     <th>std err</th>      <th>z</th>      <th>P>|z|</th>  <th>[0.025</th>    <th>0.975]</th>  \n",
       "</tr>\n",
       "<tr>\n",
       "  <th>ar.L1</th>  <td>   -0.4820</td> <td>    0.033</td> <td>  -14.602</td> <td> 0.000</td> <td>   -0.547</td> <td>   -0.417</td>\n",
       "</tr>\n",
       "<tr>\n",
       "  <th>ma.L1</th>  <td>   -1.0000</td> <td>    0.047</td> <td>  -21.155</td> <td> 0.000</td> <td>   -1.093</td> <td>   -0.907</td>\n",
       "</tr>\n",
       "<tr>\n",
       "  <th>sigma2</th> <td> 2.205e+05</td> <td> 2.14e-07</td> <td> 1.03e+12</td> <td> 0.000</td> <td> 2.21e+05</td> <td> 2.21e+05</td>\n",
       "</tr>\n",
       "</table>\n",
       "<table class=\"simpletable\">\n",
       "<tr>\n",
       "  <th>Ljung-Box (L1) (Q):</th>     <td>6.47</td> <th>  Jarque-Bera (JB):  </th> <td>243.86</td>\n",
       "</tr>\n",
       "<tr>\n",
       "  <th>Prob(Q):</th>                <td>0.01</td> <th>  Prob(JB):          </th>  <td>0.00</td> \n",
       "</tr>\n",
       "<tr>\n",
       "  <th>Heteroskedasticity (H):</th> <td>1.44</td> <th>  Skew:              </th>  <td>0.94</td> \n",
       "</tr>\n",
       "<tr>\n",
       "  <th>Prob(H) (two-sided):</th>    <td>0.07</td> <th>  Kurtosis:          </th>  <td>6.98</td> \n",
       "</tr>\n",
       "</table><br/><br/>Warnings:<br/>[1] Covariance matrix calculated using the outer product of gradients (complex-step).<br/>[2] Covariance matrix is singular or near-singular, with condition number 3.69e+26. Standard errors may be unstable."
      ],
      "text/plain": [
       "<class 'statsmodels.iolib.summary.Summary'>\n",
       "\"\"\"\n",
       "                               SARIMAX Results                                \n",
       "==============================================================================\n",
       "Dep. Variable:         Trip  Duration   No. Observations:                  304\n",
       "Model:                 ARIMA(1, 2, 1)   Log Likelihood               -2289.364\n",
       "Date:                Tue, 18 Oct 2022   AIC                           4584.728\n",
       "Time:                        23:16:09   BIC                           4595.859\n",
       "Sample:                    01-01-2021   HQIC                          4589.182\n",
       "                         - 10-31-2021                                         \n",
       "Covariance Type:                  opg                                         \n",
       "==============================================================================\n",
       "                 coef    std err          z      P>|z|      [0.025      0.975]\n",
       "------------------------------------------------------------------------------\n",
       "ar.L1         -0.4820      0.033    -14.602      0.000      -0.547      -0.417\n",
       "ma.L1         -1.0000      0.047    -21.155      0.000      -1.093      -0.907\n",
       "sigma2      2.205e+05   2.14e-07   1.03e+12      0.000    2.21e+05    2.21e+05\n",
       "===================================================================================\n",
       "Ljung-Box (L1) (Q):                   6.47   Jarque-Bera (JB):               243.86\n",
       "Prob(Q):                              0.01   Prob(JB):                         0.00\n",
       "Heteroskedasticity (H):               1.44   Skew:                             0.94\n",
       "Prob(H) (two-sided):                  0.07   Kurtosis:                         6.98\n",
       "===================================================================================\n",
       "\n",
       "Warnings:\n",
       "[1] Covariance matrix calculated using the outer product of gradients (complex-step).\n",
       "[2] Covariance matrix is singular or near-singular, with condition number 3.69e+26. Standard errors may be unstable.\n",
       "\"\"\""
      ]
     },
     "execution_count": 34,
     "metadata": {},
     "output_type": "execute_result"
    }
   ],
   "source": [
    "#Error cuadrático medio\n",
    "arima_error = np.sqrt(mean_squared_error(test2[\"Trip  Duration\"].values, arima_pred_df[\"Prediccion\"]))\n",
    "print(\"Error cuadratico medio: \",arima_error)\n",
    "arima.summary()"
   ]
  },
  {
   "cell_type": "markdown",
   "id": "13b57d57-eb47-4a17-9f1c-fff7ed67b9c9",
   "metadata": {},
   "source": [
    "Observamos que el error cuadrático medio y los valores para el módelo ARMA(AIC=4675.796, BIC=4683.230, ECM=886.3) son mucho mayores que los del módelo ARIMA (AIC=4584.728, BIC=4595.859, ECM=520.2) por lo que optamos por predecir usando este último."
   ]
  },
  {
   "cell_type": "markdown",
   "id": "eeda03e7-847b-46ff-9ee9-5addbf52a5e3",
   "metadata": {},
   "source": [
    "## Predicción usando ARIMA"
   ]
  },
  {
   "cell_type": "markdown",
   "id": "96770e71-8b77-4ffa-870c-a6d8d0c59305",
   "metadata": {},
   "source": [
    "El mismo procedimiento de predicción usado en el caso anterior."
   ]
  },
  {
   "cell_type": "code",
   "execution_count": 35,
   "id": "b6345d6a-e580-4f29-be5a-cdad4d9d1812",
   "metadata": {},
   "outputs": [],
   "source": [
    "#Predicción\n",
    "arima_pred = arima.get_forecast(len(fecha_predic.index))\n",
    "#Un 95% de confianza\n",
    "arima_pred_df = arima_pred.conf_int(alpha = 0.05) \n",
    "arima_pred_df[\"Prediccion\"] = arima.predict(start = arima_pred_df.index[0], end = arima_pred_df.index[-1])\n",
    "arima_pred_df.index = fecha_predic.index"
   ]
  },
  {
   "cell_type": "code",
   "execution_count": 36,
   "id": "905c515a-1f29-47cd-a2f4-f08525f0b855",
   "metadata": {},
   "outputs": [
    {
     "data": {
      "text/plain": [
       "846.8607965639925"
      ]
     },
     "execution_count": 36,
     "metadata": {},
     "output_type": "execute_result"
    }
   ],
   "source": [
    "#Resultado promedio de la predicción \n",
    "arima_pred_df[\"Prediccion\"].mean()"
   ]
  },
  {
   "cell_type": "markdown",
   "id": "f0edf6f0-7a54-4c8c-8508-75d42c3d24bc",
   "metadata": {},
   "source": [
    "# Conclusiones "
   ]
  },
  {
   "cell_type": "markdown",
   "id": "cb091d55-2c57-4324-80fe-f89e566b97bb",
   "metadata": {},
   "source": [
    "A partir de los resultados de la predicción realizados respecto del número de viajes se concluye que para los meses de   Enero y Febrero del 2022, se muestra una tendencia decreciente de uso de bicicletas, ésto debido a que la proyección se generó y se proyectó en base a un año de estudio, ésto hace que el modelo no se base en un ciclo anual de temporalidad/estacionalidad, como para que se entrene y genere una tendencia de año a año de que en ciertos periodos cae la demanda y luego tiene un alza en los periodos estivales, es por esto que el modelo sólo fija una mirada decrecimiente en el uso, ya que no hay un \"bucle\" de información de estaciones para que se estudie la tendencia por temporadas.\n",
    "  \n",
    "De acuerdo a los resultados obtenidos los horarios con mayor recurrencia de uso del servicio de bicicletas es entre las 16 y las 19 horas, siendo el peak las 17:00 horas.   Los días con mayor frecuencia de uso en orden descendente : Sábados, Domingos y Viernes.\n",
    "\n",
    "Las diez estaciones de origen con mayor número de viajes son: York St / Queens Quay W, Bay St / Queens Quay W (Ferry Terminal),HTO Park (Queens Quay W),Bathurst St/Queens Quay(Billy Bishop Airport,Ontario Place Blvd / Lake Shore Blvd W (East),Queens Quay E / Lower Sherbourne St, Lake Shore Blvd W / Ontario Dr,Queens Quay / Yonge St, Marilyn Bell Park Tennis Court,Dundas St E / Regent Park Blvd.\n",
    "\n",
    "Las diez estaciones destino con mayor número viajes son: York St / Queens Quay W,Ontario Place Blvd / Lake Shore Blvd W (East)',Bay St / Queens Quay W (Ferry Terminal),Lake Shore Blvd W / Ontario Dr, Queens Quay E / Lower Sherbourne St,HTO Park (Queens Quay W),Bathurst St/Queens Quay(Billy Bishop Airport,Marilyn Bell Park Tennis Court, Queens Quay / Yonge St y Dundas St E / Regent Park Blvd.\n",
    "\n",
    "Se realiza predicción para la estación más concurrida \"York St / Queens Quay W\", aplicando el  modelo ARIMA con los parámetros p,d y q (1,2,1) que predicen que para los meses de enero y febrero del año 2022 se proyecta un tiempo promedio de viaje por día de 846.86.\n",
    "\n",
    "Mientras que para el promedio de los números de viajes predichos para los meses en estudio en el año 2022, las variables usadas para ARMA fueron las predeterminadas por el modelo, cuyo resultado obtenido fue un promedio de 37.3 viajes diarios."
   ]
  },
  {
   "cell_type": "markdown",
   "id": "4d423e69-9526-41bc-a346-260121405e36",
   "metadata": {},
   "source": [
    "# Limitaciones\n",
    "\n",
    "Las limitaciones fueron los periodos de las estacionalidades, es decir, haber estudiado un dataset más que incluya otros años y haber podido incluir el efecto comparativo estacional en el uso de las bicicletas, es decir, que  llegado cierto periodo el modelo  predijera  el  decrecimiento o aumento del uso de bicicletas.\n",
    "\n",
    "Si se complementara el análisis con un dataset que contemple el número de habitantes por zona ,  ubicación geográfica, distancia entre las estaciones, entre otras se podría realizar un estudio de la proporcionalidad del número de viajes versus el número de habitantes por zona para estudiar  la correlación de estas variables respecto de la demanda del uso de bicicletas de cada estación.\n",
    "\n",
    "Asi también,  el tiempo de espera por usuario, para la obtención de una bicicleta para determinar si la estación cuenta con un número adecuado  para cubrir la demanda de este servicio y como esto afecta la cantidad de viajes realizados por estación en función a la oferta.\n",
    "\n",
    "\n",
    "\n"
   ]
  }
 ],
 "metadata": {
  "kernelspec": {
   "display_name": "Python 3 (ipykernel)",
   "language": "python",
   "name": "python3"
  },
  "language_info": {
   "codemirror_mode": {
    "name": "ipython",
    "version": 3
   },
   "file_extension": ".py",
   "mimetype": "text/x-python",
   "name": "python",
   "nbconvert_exporter": "python",
   "pygments_lexer": "ipython3",
   "version": "3.9.12"
  }
 },
 "nbformat": 4,
 "nbformat_minor": 5
}
